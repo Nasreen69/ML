{
  "nbformat": 4,
  "nbformat_minor": 0,
  "metadata": {
    "colab": {
      "provenance": [],
      "authorship_tag": "ABX9TyO8BEC9q3gcMKHNnOBxCm4o",
      "include_colab_link": true
    },
    "kernelspec": {
      "name": "python3",
      "display_name": "Python 3"
    },
    "language_info": {
      "name": "python"
    }
  },
  "cells": [
    {
      "cell_type": "markdown",
      "metadata": {
        "id": "view-in-github",
        "colab_type": "text"
      },
      "source": [
        "<a href=\"https://colab.research.google.com/github/Nasreen69/ML/blob/main/500_observations.ipynb\" target=\"_parent\"><img src=\"https://colab.research.google.com/assets/colab-badge.svg\" alt=\"Open In Colab\"/></a>"
      ]
    },
    {
      "cell_type": "markdown",
      "source": [
        "*Create 500 observations randomly from normal distribution and apply linear regression model to predict the values. calculate mse,coeff_, intercept_ and write it to output file*. "
      ],
      "metadata": {
        "id": "4IYjfG6u1szy"
      }
    },
    {
      "cell_type": "code",
      "source": [
        "import pandas as pd\n",
        "import numpy as np\n",
        "import random \n",
        "\n",
        "import scipy\n",
        "from scipy.stats import norm\n",
        "\n",
        "import sklearn\n",
        "from sklearn.preprocessing import PolynomialFeatures\n",
        "from sklearn.linear_model import LinearRegression \n",
        "from sklearn.metrics import mean_squared_error\n",
        "\n",
        "import csv"
      ],
      "metadata": {
        "id": "9a8YAjluvAna"
      },
      "execution_count": 1,
      "outputs": []
    },
    {
      "cell_type": "code",
      "source": [
        "print(\"NumPy Version:\",np.__version__)\n",
        "print(\"Pandas Version:\",pd.__version__)\n",
        "print(\"SciPy Version:\",scipy.__version__)\n",
        "print(\"sklearn Version:\",sklearn.__version__)\n",
        "print(\"excel Version:\",csv.__version__)"
      ],
      "metadata": {
        "colab": {
          "base_uri": "https://localhost:8080/"
        },
        "id": "VURwMxLp_5zo",
        "outputId": "935a7d59-dd55-4374-bbdd-6f61e0a0fc8e"
      },
      "execution_count": 35,
      "outputs": [
        {
          "output_type": "stream",
          "name": "stdout",
          "text": [
            "NumPy Version: 1.22.4\n",
            "Pandas Version: 1.5.3\n",
            "SciPy Version: 1.10.1\n",
            "sklearn Version: 1.2.2\n",
            "excel Version: 1.0\n"
          ]
        }
      ]
    },
    {
      "cell_type": "code",
      "source": [
        "np.random.seed(1)\n",
        "# Generate 500 observations from a normal distribution with mean=0 and std=1\n",
        "#f(x; μ, σ) = (1 / (σ * sqrt(2π))) * exp(-((x-μ)^2) / (2σ^2))\n",
        "X = norm.rvs(loc=0, scale=1, size=500)  #rvs-\"Random Variates Sampling\"  x1 = uniform.rvs(size=100)\n",
        "std = np.sqrt(0.75) #since std is square root of variance\n",
        "err = np.random.normal(loc = 0.5, scale = std, size = 500)\n",
        "\n",
        "y = -1+0.5*X+err   #y = 2 + 2 * x1 + 0.3 * x2 + 100 \n",
        "X = PolynomialFeatures(2).fit_transform(X.reshape(-1,1))"
      ],
      "metadata": {
        "id": "TceUHn4gu5l-"
      },
      "execution_count": 13,
      "outputs": []
    },
    {
      "cell_type": "markdown",
      "source": [
        "*PolynomialFeatures(2) creates a new set of features that includes all possible polynomial combinations of the original features up to degree 2.*\n",
        "\n",
        "*If the original dataset has two features x and y, then the transformed x, y, x^2, y^2, xy* "
      ],
      "metadata": {
        "id": "DsAlQXrpi22J"
      }
    },
    {
      "cell_type": "code",
      "source": [
        "#lr = LinearRegression()\n",
        "#lr_fit = lr.fit(X,y)\n",
        "#y_pred = lr_fit.predict(X)\n",
        "\n",
        "lr = LinearRegression()\n",
        "lr.fit(X,y)\n",
        "y_pred = lr.predict(X)"
      ],
      "metadata": {
        "id": "YnQqLOXosifj"
      },
      "execution_count": 7,
      "outputs": []
    },
    {
      "cell_type": "code",
      "source": [
        "mse = round(mean_squared_error(y_pred,y),2)\n",
        "\n",
        "coeff = lr.coef_\n",
        "for i in range(len(coeff)):\n",
        "    coeff[i] = round(coeff[i],3)\n",
        "\n",
        "intercept = round(lr.intercept_,3)"
      ],
      "metadata": {
        "id": "EUrNQN6cuBSK"
      },
      "execution_count": 18,
      "outputs": []
    },
    {
      "cell_type": "code",
      "source": [
        "print(coeff)\n",
        "print(intercept)\n",
        "print(mse)"
      ],
      "metadata": {
        "colab": {
          "base_uri": "https://localhost:8080/"
        },
        "id": "2aJsV4ZZuET5",
        "outputId": "f0ee415d-b2e0-434a-e680-9804a7a163d9"
      },
      "execution_count": 19,
      "outputs": [
        {
          "output_type": "stream",
          "name": "stdout",
          "text": [
            "[ 0.     0.519 -0.008]\n",
            "-0.472\n",
            "0.71\n"
          ]
        }
      ]
    },
    {
      "cell_type": "code",
      "source": [
        "with open('output.csv', 'w') as filename:\n",
        "    writer = csv.writer(filename)\n",
        "    writer.writerow(['Coefficients', 'Intercept', 'Mean Squared Error'])\n",
        "    writer.writerow([coeff, intercept, mse])\n",
        "    print([coeff, intercept, mse])"
      ],
      "metadata": {
        "colab": {
          "base_uri": "https://localhost:8080/"
        },
        "id": "Ax0hoDUAu0au",
        "outputId": "aadbb052-ede4-4a48-dd41-183b14235100"
      },
      "execution_count": null,
      "outputs": [
        {
          "output_type": "stream",
          "name": "stdout",
          "text": [
            "[array([ 0.   ,  0.519, -0.008]), -0.472, 0.71]\n"
          ]
        }
      ]
    },
    {
      "cell_type": "code",
      "source": [
        "with open('output.csv', 'r') as file:\n",
        "  print(file.read())\n",
        "\n",
        "file.close()  "
      ],
      "metadata": {
        "colab": {
          "base_uri": "https://localhost:8080/"
        },
        "id": "_JmFKKMnxAb0",
        "outputId": "40257c2d-d639-4a1a-9ffc-068f54381836"
      },
      "execution_count": null,
      "outputs": [
        {
          "output_type": "stream",
          "name": "stdout",
          "text": [
            "Coefficients,Intercept,Mean Squared Error\n",
            "[ 0.     0.519 -0.008],-0.472,0.71\n",
            "\n"
          ]
        }
      ]
    }
  ]
}