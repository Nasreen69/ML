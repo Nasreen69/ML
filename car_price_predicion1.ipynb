{
  "nbformat": 4,
  "nbformat_minor": 0,
  "metadata": {
    "colab": {
      "provenance": [],
      "collapsed_sections": [
        "TtJ5UhtreFR6",
        "YSayuHCKevOr",
        "foHF4EpMJdjw",
        "jF0We4YjBCHT",
        "aN9Ub5nx9wGV",
        "lkkLPvsSPDwp",
        "UN3ujG5DQrxQ",
        "u6TL6trRRdWa",
        "_U3UGFTIRhhI",
        "i4s3lOnPRoEm"
      ],
      "authorship_tag": "ABX9TyN7jueaoHOJRVTO4Yg56zjl",
      "include_colab_link": true
    },
    "kernelspec": {
      "name": "python3",
      "display_name": "Python 3"
    },
    "language_info": {
      "name": "python"
    }
  },
  "cells": [
    {
      "cell_type": "markdown",
      "metadata": {
        "id": "view-in-github",
        "colab_type": "text"
      },
      "source": [
        "<a href=\"https://colab.research.google.com/github/Nasreen69/ML/blob/main/car_price_predicion1.ipynb\" target=\"_parent\"><img src=\"https://colab.research.google.com/assets/colab-badge.svg\" alt=\"Open In Colab\"/></a>"
      ]
    },
    {
      "cell_type": "code",
      "source": [
        "import pandas as pd\n",
        "import numpy as np"
      ],
      "metadata": {
        "id": "vHj3S_AW5ffj"
      },
      "execution_count": 1,
      "outputs": []
    },
    {
      "cell_type": "markdown",
      "source": [
        "### *Q1. Read the Dataset*"
      ],
      "metadata": {
        "id": "TtJ5UhtreFR6"
      }
    },
    {
      "cell_type": "code",
      "source": [
        "df = pd.read_csv(r'/content/autodata.csv')"
      ],
      "metadata": {
        "id": "jKjtit-O757o"
      },
      "execution_count": 68,
      "outputs": []
    },
    {
      "cell_type": "code",
      "source": [
        "df.head(4)"
      ],
      "metadata": {
        "id": "pQzxgBHBIg-X",
        "colab": {
          "base_uri": "https://localhost:8080/",
          "height": 175
        },
        "outputId": "845cb9b4-d71f-4ce0-ccff-66a46c040288"
      },
      "execution_count": 5,
      "outputs": [
        {
          "output_type": "execute_result",
          "data": {
            "text/plain": [
              "          make peak-rpm curb-weight   body-style wheel-base  length  \\\n",
              "0  alfa-romero     5000        2548  convertible       88.6   168.8   \n",
              "1  alfa-romero     5000        2823  convertible       88.6   168.8   \n",
              "2  alfa-romero     5500        2337    hatchback          ?   171.2   \n",
              "3         audi        ?        2824        sedan       99.8   176.6   \n",
              "\n",
              "  engine-type num-of-cylinders horsepower city-mpg  price  \n",
              "0        dohc             four        111       21  13495  \n",
              "1        dohc             four        111       21  16500  \n",
              "2        ohcv              six        154       19  16500  \n",
              "3         ohc             four        102       24  13950  "
            ],
            "text/html": [
              "\n",
              "  <div id=\"df-2c52a142-c7ce-4098-b36c-4f513754d14e\">\n",
              "    <div class=\"colab-df-container\">\n",
              "      <div>\n",
              "<style scoped>\n",
              "    .dataframe tbody tr th:only-of-type {\n",
              "        vertical-align: middle;\n",
              "    }\n",
              "\n",
              "    .dataframe tbody tr th {\n",
              "        vertical-align: top;\n",
              "    }\n",
              "\n",
              "    .dataframe thead th {\n",
              "        text-align: right;\n",
              "    }\n",
              "</style>\n",
              "<table border=\"1\" class=\"dataframe\">\n",
              "  <thead>\n",
              "    <tr style=\"text-align: right;\">\n",
              "      <th></th>\n",
              "      <th>make</th>\n",
              "      <th>peak-rpm</th>\n",
              "      <th>curb-weight</th>\n",
              "      <th>body-style</th>\n",
              "      <th>wheel-base</th>\n",
              "      <th>length</th>\n",
              "      <th>engine-type</th>\n",
              "      <th>num-of-cylinders</th>\n",
              "      <th>horsepower</th>\n",
              "      <th>city-mpg</th>\n",
              "      <th>price</th>\n",
              "    </tr>\n",
              "  </thead>\n",
              "  <tbody>\n",
              "    <tr>\n",
              "      <th>0</th>\n",
              "      <td>alfa-romero</td>\n",
              "      <td>5000</td>\n",
              "      <td>2548</td>\n",
              "      <td>convertible</td>\n",
              "      <td>88.6</td>\n",
              "      <td>168.8</td>\n",
              "      <td>dohc</td>\n",
              "      <td>four</td>\n",
              "      <td>111</td>\n",
              "      <td>21</td>\n",
              "      <td>13495</td>\n",
              "    </tr>\n",
              "    <tr>\n",
              "      <th>1</th>\n",
              "      <td>alfa-romero</td>\n",
              "      <td>5000</td>\n",
              "      <td>2823</td>\n",
              "      <td>convertible</td>\n",
              "      <td>88.6</td>\n",
              "      <td>168.8</td>\n",
              "      <td>dohc</td>\n",
              "      <td>four</td>\n",
              "      <td>111</td>\n",
              "      <td>21</td>\n",
              "      <td>16500</td>\n",
              "    </tr>\n",
              "    <tr>\n",
              "      <th>2</th>\n",
              "      <td>alfa-romero</td>\n",
              "      <td>5500</td>\n",
              "      <td>2337</td>\n",
              "      <td>hatchback</td>\n",
              "      <td>?</td>\n",
              "      <td>171.2</td>\n",
              "      <td>ohcv</td>\n",
              "      <td>six</td>\n",
              "      <td>154</td>\n",
              "      <td>19</td>\n",
              "      <td>16500</td>\n",
              "    </tr>\n",
              "    <tr>\n",
              "      <th>3</th>\n",
              "      <td>audi</td>\n",
              "      <td>?</td>\n",
              "      <td>2824</td>\n",
              "      <td>sedan</td>\n",
              "      <td>99.8</td>\n",
              "      <td>176.6</td>\n",
              "      <td>ohc</td>\n",
              "      <td>four</td>\n",
              "      <td>102</td>\n",
              "      <td>24</td>\n",
              "      <td>13950</td>\n",
              "    </tr>\n",
              "  </tbody>\n",
              "</table>\n",
              "</div>\n",
              "      <button class=\"colab-df-convert\" onclick=\"convertToInteractive('df-2c52a142-c7ce-4098-b36c-4f513754d14e')\"\n",
              "              title=\"Convert this dataframe to an interactive table.\"\n",
              "              style=\"display:none;\">\n",
              "        \n",
              "  <svg xmlns=\"http://www.w3.org/2000/svg\" height=\"24px\"viewBox=\"0 0 24 24\"\n",
              "       width=\"24px\">\n",
              "    <path d=\"M0 0h24v24H0V0z\" fill=\"none\"/>\n",
              "    <path d=\"M18.56 5.44l.94 2.06.94-2.06 2.06-.94-2.06-.94-.94-2.06-.94 2.06-2.06.94zm-11 1L8.5 8.5l.94-2.06 2.06-.94-2.06-.94L8.5 2.5l-.94 2.06-2.06.94zm10 10l.94 2.06.94-2.06 2.06-.94-2.06-.94-.94-2.06-.94 2.06-2.06.94z\"/><path d=\"M17.41 7.96l-1.37-1.37c-.4-.4-.92-.59-1.43-.59-.52 0-1.04.2-1.43.59L10.3 9.45l-7.72 7.72c-.78.78-.78 2.05 0 2.83L4 21.41c.39.39.9.59 1.41.59.51 0 1.02-.2 1.41-.59l7.78-7.78 2.81-2.81c.8-.78.8-2.07 0-2.86zM5.41 20L4 18.59l7.72-7.72 1.47 1.35L5.41 20z\"/>\n",
              "  </svg>\n",
              "      </button>\n",
              "      \n",
              "  <style>\n",
              "    .colab-df-container {\n",
              "      display:flex;\n",
              "      flex-wrap:wrap;\n",
              "      gap: 12px;\n",
              "    }\n",
              "\n",
              "    .colab-df-convert {\n",
              "      background-color: #E8F0FE;\n",
              "      border: none;\n",
              "      border-radius: 50%;\n",
              "      cursor: pointer;\n",
              "      display: none;\n",
              "      fill: #1967D2;\n",
              "      height: 32px;\n",
              "      padding: 0 0 0 0;\n",
              "      width: 32px;\n",
              "    }\n",
              "\n",
              "    .colab-df-convert:hover {\n",
              "      background-color: #E2EBFA;\n",
              "      box-shadow: 0px 1px 2px rgba(60, 64, 67, 0.3), 0px 1px 3px 1px rgba(60, 64, 67, 0.15);\n",
              "      fill: #174EA6;\n",
              "    }\n",
              "\n",
              "    [theme=dark] .colab-df-convert {\n",
              "      background-color: #3B4455;\n",
              "      fill: #D2E3FC;\n",
              "    }\n",
              "\n",
              "    [theme=dark] .colab-df-convert:hover {\n",
              "      background-color: #434B5C;\n",
              "      box-shadow: 0px 1px 3px 1px rgba(0, 0, 0, 0.15);\n",
              "      filter: drop-shadow(0px 1px 2px rgba(0, 0, 0, 0.3));\n",
              "      fill: #FFFFFF;\n",
              "    }\n",
              "  </style>\n",
              "\n",
              "      <script>\n",
              "        const buttonEl =\n",
              "          document.querySelector('#df-2c52a142-c7ce-4098-b36c-4f513754d14e button.colab-df-convert');\n",
              "        buttonEl.style.display =\n",
              "          google.colab.kernel.accessAllowed ? 'block' : 'none';\n",
              "\n",
              "        async function convertToInteractive(key) {\n",
              "          const element = document.querySelector('#df-2c52a142-c7ce-4098-b36c-4f513754d14e');\n",
              "          const dataTable =\n",
              "            await google.colab.kernel.invokeFunction('convertToInteractive',\n",
              "                                                     [key], {});\n",
              "          if (!dataTable) return;\n",
              "\n",
              "          const docLinkHtml = 'Like what you see? Visit the ' +\n",
              "            '<a target=\"_blank\" href=https://colab.research.google.com/notebooks/data_table.ipynb>data table notebook</a>'\n",
              "            + ' to learn more about interactive tables.';\n",
              "          element.innerHTML = '';\n",
              "          dataTable['output_type'] = 'display_data';\n",
              "          await google.colab.output.renderOutput(dataTable, element);\n",
              "          const docLink = document.createElement('div');\n",
              "          docLink.innerHTML = docLinkHtml;\n",
              "          element.appendChild(docLink);\n",
              "        }\n",
              "      </script>\n",
              "    </div>\n",
              "  </div>\n",
              "  "
            ]
          },
          "metadata": {},
          "execution_count": 5
        }
      ]
    },
    {
      "cell_type": "code",
      "source": [
        "df.tail(4)"
      ],
      "metadata": {
        "id": "xfR0IjGfIjIS",
        "colab": {
          "base_uri": "https://localhost:8080/",
          "height": 175
        },
        "outputId": "d9df56b0-d1f8-40a7-b83f-ea02e1184065"
      },
      "execution_count": 6,
      "outputs": [
        {
          "output_type": "execute_result",
          "data": {
            "text/plain": [
              "          make peak-rpm curb-weight body-style wheel-base  length engine-type  \\\n",
              "57  volkswagen     6000        2500      sedan       97.3   171.7         ohc   \n",
              "58           ?     4800        2385      sedan       97.3   171.7         ohc   \n",
              "59       volvo     4800        2410      sedan      104.3   188.8         ohc   \n",
              "60       volvo     4800        2385      wagon      104.3   188.8         ohc   \n",
              "\n",
              "   num-of-cylinders horsepower city-mpg  price  \n",
              "57             four      13213       37   7995  \n",
              "58             four        100       26   9995  \n",
              "59             four        114       23  12940  \n",
              "60             four        114       23  13415  "
            ],
            "text/html": [
              "\n",
              "  <div id=\"df-7472a86d-ff7d-41d4-8052-251e926561a3\">\n",
              "    <div class=\"colab-df-container\">\n",
              "      <div>\n",
              "<style scoped>\n",
              "    .dataframe tbody tr th:only-of-type {\n",
              "        vertical-align: middle;\n",
              "    }\n",
              "\n",
              "    .dataframe tbody tr th {\n",
              "        vertical-align: top;\n",
              "    }\n",
              "\n",
              "    .dataframe thead th {\n",
              "        text-align: right;\n",
              "    }\n",
              "</style>\n",
              "<table border=\"1\" class=\"dataframe\">\n",
              "  <thead>\n",
              "    <tr style=\"text-align: right;\">\n",
              "      <th></th>\n",
              "      <th>make</th>\n",
              "      <th>peak-rpm</th>\n",
              "      <th>curb-weight</th>\n",
              "      <th>body-style</th>\n",
              "      <th>wheel-base</th>\n",
              "      <th>length</th>\n",
              "      <th>engine-type</th>\n",
              "      <th>num-of-cylinders</th>\n",
              "      <th>horsepower</th>\n",
              "      <th>city-mpg</th>\n",
              "      <th>price</th>\n",
              "    </tr>\n",
              "  </thead>\n",
              "  <tbody>\n",
              "    <tr>\n",
              "      <th>57</th>\n",
              "      <td>volkswagen</td>\n",
              "      <td>6000</td>\n",
              "      <td>2500</td>\n",
              "      <td>sedan</td>\n",
              "      <td>97.3</td>\n",
              "      <td>171.7</td>\n",
              "      <td>ohc</td>\n",
              "      <td>four</td>\n",
              "      <td>13213</td>\n",
              "      <td>37</td>\n",
              "      <td>7995</td>\n",
              "    </tr>\n",
              "    <tr>\n",
              "      <th>58</th>\n",
              "      <td>?</td>\n",
              "      <td>4800</td>\n",
              "      <td>2385</td>\n",
              "      <td>sedan</td>\n",
              "      <td>97.3</td>\n",
              "      <td>171.7</td>\n",
              "      <td>ohc</td>\n",
              "      <td>four</td>\n",
              "      <td>100</td>\n",
              "      <td>26</td>\n",
              "      <td>9995</td>\n",
              "    </tr>\n",
              "    <tr>\n",
              "      <th>59</th>\n",
              "      <td>volvo</td>\n",
              "      <td>4800</td>\n",
              "      <td>2410</td>\n",
              "      <td>sedan</td>\n",
              "      <td>104.3</td>\n",
              "      <td>188.8</td>\n",
              "      <td>ohc</td>\n",
              "      <td>four</td>\n",
              "      <td>114</td>\n",
              "      <td>23</td>\n",
              "      <td>12940</td>\n",
              "    </tr>\n",
              "    <tr>\n",
              "      <th>60</th>\n",
              "      <td>volvo</td>\n",
              "      <td>4800</td>\n",
              "      <td>2385</td>\n",
              "      <td>wagon</td>\n",
              "      <td>104.3</td>\n",
              "      <td>188.8</td>\n",
              "      <td>ohc</td>\n",
              "      <td>four</td>\n",
              "      <td>114</td>\n",
              "      <td>23</td>\n",
              "      <td>13415</td>\n",
              "    </tr>\n",
              "  </tbody>\n",
              "</table>\n",
              "</div>\n",
              "      <button class=\"colab-df-convert\" onclick=\"convertToInteractive('df-7472a86d-ff7d-41d4-8052-251e926561a3')\"\n",
              "              title=\"Convert this dataframe to an interactive table.\"\n",
              "              style=\"display:none;\">\n",
              "        \n",
              "  <svg xmlns=\"http://www.w3.org/2000/svg\" height=\"24px\"viewBox=\"0 0 24 24\"\n",
              "       width=\"24px\">\n",
              "    <path d=\"M0 0h24v24H0V0z\" fill=\"none\"/>\n",
              "    <path d=\"M18.56 5.44l.94 2.06.94-2.06 2.06-.94-2.06-.94-.94-2.06-.94 2.06-2.06.94zm-11 1L8.5 8.5l.94-2.06 2.06-.94-2.06-.94L8.5 2.5l-.94 2.06-2.06.94zm10 10l.94 2.06.94-2.06 2.06-.94-2.06-.94-.94-2.06-.94 2.06-2.06.94z\"/><path d=\"M17.41 7.96l-1.37-1.37c-.4-.4-.92-.59-1.43-.59-.52 0-1.04.2-1.43.59L10.3 9.45l-7.72 7.72c-.78.78-.78 2.05 0 2.83L4 21.41c.39.39.9.59 1.41.59.51 0 1.02-.2 1.41-.59l7.78-7.78 2.81-2.81c.8-.78.8-2.07 0-2.86zM5.41 20L4 18.59l7.72-7.72 1.47 1.35L5.41 20z\"/>\n",
              "  </svg>\n",
              "      </button>\n",
              "      \n",
              "  <style>\n",
              "    .colab-df-container {\n",
              "      display:flex;\n",
              "      flex-wrap:wrap;\n",
              "      gap: 12px;\n",
              "    }\n",
              "\n",
              "    .colab-df-convert {\n",
              "      background-color: #E8F0FE;\n",
              "      border: none;\n",
              "      border-radius: 50%;\n",
              "      cursor: pointer;\n",
              "      display: none;\n",
              "      fill: #1967D2;\n",
              "      height: 32px;\n",
              "      padding: 0 0 0 0;\n",
              "      width: 32px;\n",
              "    }\n",
              "\n",
              "    .colab-df-convert:hover {\n",
              "      background-color: #E2EBFA;\n",
              "      box-shadow: 0px 1px 2px rgba(60, 64, 67, 0.3), 0px 1px 3px 1px rgba(60, 64, 67, 0.15);\n",
              "      fill: #174EA6;\n",
              "    }\n",
              "\n",
              "    [theme=dark] .colab-df-convert {\n",
              "      background-color: #3B4455;\n",
              "      fill: #D2E3FC;\n",
              "    }\n",
              "\n",
              "    [theme=dark] .colab-df-convert:hover {\n",
              "      background-color: #434B5C;\n",
              "      box-shadow: 0px 1px 3px 1px rgba(0, 0, 0, 0.15);\n",
              "      filter: drop-shadow(0px 1px 2px rgba(0, 0, 0, 0.3));\n",
              "      fill: #FFFFFF;\n",
              "    }\n",
              "  </style>\n",
              "\n",
              "      <script>\n",
              "        const buttonEl =\n",
              "          document.querySelector('#df-7472a86d-ff7d-41d4-8052-251e926561a3 button.colab-df-convert');\n",
              "        buttonEl.style.display =\n",
              "          google.colab.kernel.accessAllowed ? 'block' : 'none';\n",
              "\n",
              "        async function convertToInteractive(key) {\n",
              "          const element = document.querySelector('#df-7472a86d-ff7d-41d4-8052-251e926561a3');\n",
              "          const dataTable =\n",
              "            await google.colab.kernel.invokeFunction('convertToInteractive',\n",
              "                                                     [key], {});\n",
              "          if (!dataTable) return;\n",
              "\n",
              "          const docLinkHtml = 'Like what you see? Visit the ' +\n",
              "            '<a target=\"_blank\" href=https://colab.research.google.com/notebooks/data_table.ipynb>data table notebook</a>'\n",
              "            + ' to learn more about interactive tables.';\n",
              "          element.innerHTML = '';\n",
              "          dataTable['output_type'] = 'display_data';\n",
              "          await google.colab.output.renderOutput(dataTable, element);\n",
              "          const docLink = document.createElement('div');\n",
              "          docLink.innerHTML = docLinkHtml;\n",
              "          element.appendChild(docLink);\n",
              "        }\n",
              "      </script>\n",
              "    </div>\n",
              "  </div>\n",
              "  "
            ]
          },
          "metadata": {},
          "execution_count": 6
        }
      ]
    },
    {
      "cell_type": "code",
      "source": [
        "df.shape"
      ],
      "metadata": {
        "colab": {
          "base_uri": "https://localhost:8080/"
        },
        "id": "zdoUkAhQNzcD",
        "outputId": "8a4879b2-8562-4151-90cd-eefc88b86e00"
      },
      "execution_count": 4,
      "outputs": [
        {
          "output_type": "execute_result",
          "data": {
            "text/plain": [
              "(61, 11)"
            ]
          },
          "metadata": {},
          "execution_count": 4
        }
      ]
    },
    {
      "cell_type": "code",
      "source": [
        "df.columns  #len(df.columns)"
      ],
      "metadata": {
        "colab": {
          "base_uri": "https://localhost:8080/"
        },
        "id": "spN-BqM3NqAG",
        "outputId": "5c8e4534-9558-4a84-d2bf-2da5debb37b0"
      },
      "execution_count": null,
      "outputs": [
        {
          "output_type": "execute_result",
          "data": {
            "text/plain": [
              "Index(['make', 'peak-rpm', 'curb-weight', 'body-style', 'wheel-base', 'length',\n",
              "       'engine-type', 'num-of-cylinders', 'horsepower', 'city-mpg', 'price'],\n",
              "      dtype='object')"
            ]
          },
          "metadata": {},
          "execution_count": 18
        }
      ]
    },
    {
      "cell_type": "code",
      "source": [
        "df.info()"
      ],
      "metadata": {
        "id": "RDjm7jKNIqsd",
        "colab": {
          "base_uri": "https://localhost:8080/"
        },
        "outputId": "d099898e-c1ab-4dd6-9925-a66d95232c03"
      },
      "execution_count": 7,
      "outputs": [
        {
          "output_type": "stream",
          "name": "stdout",
          "text": [
            "<class 'pandas.core.frame.DataFrame'>\n",
            "RangeIndex: 61 entries, 0 to 60\n",
            "Data columns (total 11 columns):\n",
            " #   Column            Non-Null Count  Dtype  \n",
            "---  ------            --------------  -----  \n",
            " 0   make              61 non-null     object \n",
            " 1   peak-rpm          61 non-null     object \n",
            " 2   curb-weight       61 non-null     object \n",
            " 3   body-style        61 non-null     object \n",
            " 4   wheel-base        61 non-null     object \n",
            " 5   length            61 non-null     float64\n",
            " 6   engine-type       61 non-null     object \n",
            " 7   num-of-cylinders  61 non-null     object \n",
            " 8   horsepower        61 non-null     object \n",
            " 9   city-mpg          61 non-null     object \n",
            " 10  price             60 non-null     object \n",
            "dtypes: float64(1), object(10)\n",
            "memory usage: 5.4+ KB\n"
          ]
        }
      ]
    },
    {
      "cell_type": "code",
      "source": [
        "df.describe()"
      ],
      "metadata": {
        "id": "rM0gknLjIsDr",
        "colab": {
          "base_uri": "https://localhost:8080/",
          "height": 300
        },
        "outputId": "5fec1dbc-3157-4106-fd36-8caa7f73a461"
      },
      "execution_count": 8,
      "outputs": [
        {
          "output_type": "execute_result",
          "data": {
            "text/plain": [
              "           length\n",
              "count   61.000000\n",
              "mean   173.098361\n",
              "std     14.021846\n",
              "min    141.100000\n",
              "25%    159.100000\n",
              "50%    171.200000\n",
              "75%    177.300000\n",
              "max    208.100000"
            ],
            "text/html": [
              "\n",
              "  <div id=\"df-eef87231-cdfc-46ef-bc57-6b9cb48ed698\">\n",
              "    <div class=\"colab-df-container\">\n",
              "      <div>\n",
              "<style scoped>\n",
              "    .dataframe tbody tr th:only-of-type {\n",
              "        vertical-align: middle;\n",
              "    }\n",
              "\n",
              "    .dataframe tbody tr th {\n",
              "        vertical-align: top;\n",
              "    }\n",
              "\n",
              "    .dataframe thead th {\n",
              "        text-align: right;\n",
              "    }\n",
              "</style>\n",
              "<table border=\"1\" class=\"dataframe\">\n",
              "  <thead>\n",
              "    <tr style=\"text-align: right;\">\n",
              "      <th></th>\n",
              "      <th>length</th>\n",
              "    </tr>\n",
              "  </thead>\n",
              "  <tbody>\n",
              "    <tr>\n",
              "      <th>count</th>\n",
              "      <td>61.000000</td>\n",
              "    </tr>\n",
              "    <tr>\n",
              "      <th>mean</th>\n",
              "      <td>173.098361</td>\n",
              "    </tr>\n",
              "    <tr>\n",
              "      <th>std</th>\n",
              "      <td>14.021846</td>\n",
              "    </tr>\n",
              "    <tr>\n",
              "      <th>min</th>\n",
              "      <td>141.100000</td>\n",
              "    </tr>\n",
              "    <tr>\n",
              "      <th>25%</th>\n",
              "      <td>159.100000</td>\n",
              "    </tr>\n",
              "    <tr>\n",
              "      <th>50%</th>\n",
              "      <td>171.200000</td>\n",
              "    </tr>\n",
              "    <tr>\n",
              "      <th>75%</th>\n",
              "      <td>177.300000</td>\n",
              "    </tr>\n",
              "    <tr>\n",
              "      <th>max</th>\n",
              "      <td>208.100000</td>\n",
              "    </tr>\n",
              "  </tbody>\n",
              "</table>\n",
              "</div>\n",
              "      <button class=\"colab-df-convert\" onclick=\"convertToInteractive('df-eef87231-cdfc-46ef-bc57-6b9cb48ed698')\"\n",
              "              title=\"Convert this dataframe to an interactive table.\"\n",
              "              style=\"display:none;\">\n",
              "        \n",
              "  <svg xmlns=\"http://www.w3.org/2000/svg\" height=\"24px\"viewBox=\"0 0 24 24\"\n",
              "       width=\"24px\">\n",
              "    <path d=\"M0 0h24v24H0V0z\" fill=\"none\"/>\n",
              "    <path d=\"M18.56 5.44l.94 2.06.94-2.06 2.06-.94-2.06-.94-.94-2.06-.94 2.06-2.06.94zm-11 1L8.5 8.5l.94-2.06 2.06-.94-2.06-.94L8.5 2.5l-.94 2.06-2.06.94zm10 10l.94 2.06.94-2.06 2.06-.94-2.06-.94-.94-2.06-.94 2.06-2.06.94z\"/><path d=\"M17.41 7.96l-1.37-1.37c-.4-.4-.92-.59-1.43-.59-.52 0-1.04.2-1.43.59L10.3 9.45l-7.72 7.72c-.78.78-.78 2.05 0 2.83L4 21.41c.39.39.9.59 1.41.59.51 0 1.02-.2 1.41-.59l7.78-7.78 2.81-2.81c.8-.78.8-2.07 0-2.86zM5.41 20L4 18.59l7.72-7.72 1.47 1.35L5.41 20z\"/>\n",
              "  </svg>\n",
              "      </button>\n",
              "      \n",
              "  <style>\n",
              "    .colab-df-container {\n",
              "      display:flex;\n",
              "      flex-wrap:wrap;\n",
              "      gap: 12px;\n",
              "    }\n",
              "\n",
              "    .colab-df-convert {\n",
              "      background-color: #E8F0FE;\n",
              "      border: none;\n",
              "      border-radius: 50%;\n",
              "      cursor: pointer;\n",
              "      display: none;\n",
              "      fill: #1967D2;\n",
              "      height: 32px;\n",
              "      padding: 0 0 0 0;\n",
              "      width: 32px;\n",
              "    }\n",
              "\n",
              "    .colab-df-convert:hover {\n",
              "      background-color: #E2EBFA;\n",
              "      box-shadow: 0px 1px 2px rgba(60, 64, 67, 0.3), 0px 1px 3px 1px rgba(60, 64, 67, 0.15);\n",
              "      fill: #174EA6;\n",
              "    }\n",
              "\n",
              "    [theme=dark] .colab-df-convert {\n",
              "      background-color: #3B4455;\n",
              "      fill: #D2E3FC;\n",
              "    }\n",
              "\n",
              "    [theme=dark] .colab-df-convert:hover {\n",
              "      background-color: #434B5C;\n",
              "      box-shadow: 0px 1px 3px 1px rgba(0, 0, 0, 0.15);\n",
              "      filter: drop-shadow(0px 1px 2px rgba(0, 0, 0, 0.3));\n",
              "      fill: #FFFFFF;\n",
              "    }\n",
              "  </style>\n",
              "\n",
              "      <script>\n",
              "        const buttonEl =\n",
              "          document.querySelector('#df-eef87231-cdfc-46ef-bc57-6b9cb48ed698 button.colab-df-convert');\n",
              "        buttonEl.style.display =\n",
              "          google.colab.kernel.accessAllowed ? 'block' : 'none';\n",
              "\n",
              "        async function convertToInteractive(key) {\n",
              "          const element = document.querySelector('#df-eef87231-cdfc-46ef-bc57-6b9cb48ed698');\n",
              "          const dataTable =\n",
              "            await google.colab.kernel.invokeFunction('convertToInteractive',\n",
              "                                                     [key], {});\n",
              "          if (!dataTable) return;\n",
              "\n",
              "          const docLinkHtml = 'Like what you see? Visit the ' +\n",
              "            '<a target=\"_blank\" href=https://colab.research.google.com/notebooks/data_table.ipynb>data table notebook</a>'\n",
              "            + ' to learn more about interactive tables.';\n",
              "          element.innerHTML = '';\n",
              "          dataTable['output_type'] = 'display_data';\n",
              "          await google.colab.output.renderOutput(dataTable, element);\n",
              "          const docLink = document.createElement('div');\n",
              "          docLink.innerHTML = docLinkHtml;\n",
              "          element.appendChild(docLink);\n",
              "        }\n",
              "      </script>\n",
              "    </div>\n",
              "  </div>\n",
              "  "
            ]
          },
          "metadata": {},
          "execution_count": 8
        }
      ]
    },
    {
      "cell_type": "markdown",
      "source": [
        "# ***Data Pre-processing*** "
      ],
      "metadata": {
        "id": "hGJZWfQTyy0c"
      }
    },
    {
      "cell_type": "markdown",
      "source": [
        "##### *Why do we need to clean the data?*\n",
        "\n",
        "`Duplicates: causes redundancy and inconsistency also occupies storage space` \n",
        "\n",
        "`Extreme values: changes trends and statistics in data which may lead to bad decisions in industry`\n",
        "\n",
        "`Empty values: which corrupt data and takes additional storage space`\n",
        "\n",
        "*What if you don't clean the data?*\n",
        "\n",
        "`when the data is not cleaned, contains some garbage values, captures noise and fails to predict test/unseen data and failed to get maximum accuracy `"
      ],
      "metadata": {
        "id": "znHKG0ro4HMB"
      }
    },
    {
      "cell_type": "code",
      "source": [
        "df.duplicated() # to check duplicate records\n",
        "df.drop_duplicates(subset=['brand', 'style'], keep='last') # to remove duplicates  "
      ],
      "metadata": {
        "id": "0jI1bxtdcvOo"
      },
      "execution_count": null,
      "outputs": []
    },
    {
      "cell_type": "markdown",
      "source": [
        "### ***Q2. Find the total number of empty values in the dataset and replace it with 0***"
      ],
      "metadata": {
        "id": "YSayuHCKevOr"
      }
    },
    {
      "cell_type": "code",
      "source": [
        "df.isnull().values.any() #df.isna().values.any() ---> returns boolean value"
      ],
      "metadata": {
        "colab": {
          "base_uri": "https://localhost:8080/"
        },
        "id": "QsRLR_EpY06n",
        "outputId": "668e516c-d7ca-4727-8cf4-cbf38146f3d2"
      },
      "execution_count": 9,
      "outputs": [
        {
          "output_type": "execute_result",
          "data": {
            "text/plain": [
              "True"
            ]
          },
          "metadata": {},
          "execution_count": 9
        }
      ]
    },
    {
      "cell_type": "code",
      "source": [
        "df.isnull().sum()  #df.isna().sum()  --> returns binary count"
      ],
      "metadata": {
        "colab": {
          "base_uri": "https://localhost:8080/"
        },
        "id": "Lce_B8pNN9MC",
        "outputId": "3fed780b-12df-4c89-8c38-d9bb3f703b4a"
      },
      "execution_count": 10,
      "outputs": [
        {
          "output_type": "execute_result",
          "data": {
            "text/plain": [
              "make                0\n",
              "peak-rpm            0\n",
              "curb-weight         0\n",
              "body-style          0\n",
              "wheel-base          0\n",
              "length              0\n",
              "engine-type         0\n",
              "num-of-cylinders    0\n",
              "horsepower          0\n",
              "city-mpg            0\n",
              "price               1\n",
              "dtype: int64"
            ]
          },
          "metadata": {},
          "execution_count": 10
        }
      ]
    },
    {
      "cell_type": "code",
      "source": [
        "# Find the row number of null values in the price column\n",
        "price_rows_nullno = df[df['price'].isnull()].index.tolist()\n",
        "\n",
        "print(\"Null values are present in rows:\", \n",
        "      \"1.make_rows_nullno: \", price_rows_nullno, \"\\n\" )"
      ],
      "metadata": {
        "colab": {
          "base_uri": "https://localhost:8080/"
        },
        "id": "7UNvUroNkqj8",
        "outputId": "fac62689-75f3-4bd4-9328-00d4d4756ed1"
      },
      "execution_count": 11,
      "outputs": [
        {
          "output_type": "stream",
          "name": "stdout",
          "text": [
            "Null values are present in rows: 1.make_rows_nullno:  [47] \n",
            "\n"
          ]
        }
      ]
    },
    {
      "cell_type": "code",
      "source": [
        "df['price'] = df['price'].fillna(0)"
      ],
      "metadata": {
        "id": "oS46lJMXJD2j"
      },
      "execution_count": 12,
      "outputs": []
    },
    {
      "cell_type": "markdown",
      "source": [
        "### ***Q3. Find extreme values and replace it with np.nan***"
      ],
      "metadata": {
        "id": "foHF4EpMJdjw"
      }
    },
    {
      "cell_type": "code",
      "source": [
        "df['make'].unique()  "
      ],
      "metadata": {
        "colab": {
          "base_uri": "https://localhost:8080/"
        },
        "id": "YYiHkG76lWjB",
        "outputId": "9eed30e4-3a37-41fc-ad8c-cdf02874fc14"
      },
      "execution_count": 13,
      "outputs": [
        {
          "output_type": "execute_result",
          "data": {
            "text/plain": [
              "array(['alfa-romero', 'audi', 'bmw', 'chevrolet', 'dodge', 'honda',\n",
              "       'isuzu', 'jaguar', '?', 'mazda', 'mercedes-benz', 'mitsubishi',\n",
              "       'nissan', 'porsche', 'toyota', 'volkswagen', 'volvo'], dtype=object)"
            ]
          },
          "metadata": {},
          "execution_count": 13
        }
      ]
    },
    {
      "cell_type": "code",
      "source": [
        "df.replace('?',np.nan,inplace=True)"
      ],
      "metadata": {
        "id": "1j6DezOj4D1x"
      },
      "execution_count": 14,
      "outputs": []
    },
    {
      "cell_type": "code",
      "source": [
        "df.head(4)"
      ],
      "metadata": {
        "colab": {
          "base_uri": "https://localhost:8080/",
          "height": 175
        },
        "id": "e0HLRXb04KsH",
        "outputId": "d4d339d2-b5a1-488b-b473-da0b92dc2dfc"
      },
      "execution_count": 15,
      "outputs": [
        {
          "output_type": "execute_result",
          "data": {
            "text/plain": [
              "          make peak-rpm curb-weight   body-style wheel-base  length  \\\n",
              "0  alfa-romero     5000        2548  convertible       88.6   168.8   \n",
              "1  alfa-romero     5000        2823  convertible       88.6   168.8   \n",
              "2  alfa-romero     5500        2337    hatchback        NaN   171.2   \n",
              "3         audi      NaN        2824        sedan       99.8   176.6   \n",
              "\n",
              "  engine-type num-of-cylinders horsepower city-mpg  price  \n",
              "0        dohc             four        111       21  13495  \n",
              "1        dohc             four        111       21  16500  \n",
              "2        ohcv              six        154       19  16500  \n",
              "3         ohc             four        102       24  13950  "
            ],
            "text/html": [
              "\n",
              "  <div id=\"df-6f9d62f2-06fc-404e-a11c-69605dd1e186\">\n",
              "    <div class=\"colab-df-container\">\n",
              "      <div>\n",
              "<style scoped>\n",
              "    .dataframe tbody tr th:only-of-type {\n",
              "        vertical-align: middle;\n",
              "    }\n",
              "\n",
              "    .dataframe tbody tr th {\n",
              "        vertical-align: top;\n",
              "    }\n",
              "\n",
              "    .dataframe thead th {\n",
              "        text-align: right;\n",
              "    }\n",
              "</style>\n",
              "<table border=\"1\" class=\"dataframe\">\n",
              "  <thead>\n",
              "    <tr style=\"text-align: right;\">\n",
              "      <th></th>\n",
              "      <th>make</th>\n",
              "      <th>peak-rpm</th>\n",
              "      <th>curb-weight</th>\n",
              "      <th>body-style</th>\n",
              "      <th>wheel-base</th>\n",
              "      <th>length</th>\n",
              "      <th>engine-type</th>\n",
              "      <th>num-of-cylinders</th>\n",
              "      <th>horsepower</th>\n",
              "      <th>city-mpg</th>\n",
              "      <th>price</th>\n",
              "    </tr>\n",
              "  </thead>\n",
              "  <tbody>\n",
              "    <tr>\n",
              "      <th>0</th>\n",
              "      <td>alfa-romero</td>\n",
              "      <td>5000</td>\n",
              "      <td>2548</td>\n",
              "      <td>convertible</td>\n",
              "      <td>88.6</td>\n",
              "      <td>168.8</td>\n",
              "      <td>dohc</td>\n",
              "      <td>four</td>\n",
              "      <td>111</td>\n",
              "      <td>21</td>\n",
              "      <td>13495</td>\n",
              "    </tr>\n",
              "    <tr>\n",
              "      <th>1</th>\n",
              "      <td>alfa-romero</td>\n",
              "      <td>5000</td>\n",
              "      <td>2823</td>\n",
              "      <td>convertible</td>\n",
              "      <td>88.6</td>\n",
              "      <td>168.8</td>\n",
              "      <td>dohc</td>\n",
              "      <td>four</td>\n",
              "      <td>111</td>\n",
              "      <td>21</td>\n",
              "      <td>16500</td>\n",
              "    </tr>\n",
              "    <tr>\n",
              "      <th>2</th>\n",
              "      <td>alfa-romero</td>\n",
              "      <td>5500</td>\n",
              "      <td>2337</td>\n",
              "      <td>hatchback</td>\n",
              "      <td>NaN</td>\n",
              "      <td>171.2</td>\n",
              "      <td>ohcv</td>\n",
              "      <td>six</td>\n",
              "      <td>154</td>\n",
              "      <td>19</td>\n",
              "      <td>16500</td>\n",
              "    </tr>\n",
              "    <tr>\n",
              "      <th>3</th>\n",
              "      <td>audi</td>\n",
              "      <td>NaN</td>\n",
              "      <td>2824</td>\n",
              "      <td>sedan</td>\n",
              "      <td>99.8</td>\n",
              "      <td>176.6</td>\n",
              "      <td>ohc</td>\n",
              "      <td>four</td>\n",
              "      <td>102</td>\n",
              "      <td>24</td>\n",
              "      <td>13950</td>\n",
              "    </tr>\n",
              "  </tbody>\n",
              "</table>\n",
              "</div>\n",
              "      <button class=\"colab-df-convert\" onclick=\"convertToInteractive('df-6f9d62f2-06fc-404e-a11c-69605dd1e186')\"\n",
              "              title=\"Convert this dataframe to an interactive table.\"\n",
              "              style=\"display:none;\">\n",
              "        \n",
              "  <svg xmlns=\"http://www.w3.org/2000/svg\" height=\"24px\"viewBox=\"0 0 24 24\"\n",
              "       width=\"24px\">\n",
              "    <path d=\"M0 0h24v24H0V0z\" fill=\"none\"/>\n",
              "    <path d=\"M18.56 5.44l.94 2.06.94-2.06 2.06-.94-2.06-.94-.94-2.06-.94 2.06-2.06.94zm-11 1L8.5 8.5l.94-2.06 2.06-.94-2.06-.94L8.5 2.5l-.94 2.06-2.06.94zm10 10l.94 2.06.94-2.06 2.06-.94-2.06-.94-.94-2.06-.94 2.06-2.06.94z\"/><path d=\"M17.41 7.96l-1.37-1.37c-.4-.4-.92-.59-1.43-.59-.52 0-1.04.2-1.43.59L10.3 9.45l-7.72 7.72c-.78.78-.78 2.05 0 2.83L4 21.41c.39.39.9.59 1.41.59.51 0 1.02-.2 1.41-.59l7.78-7.78 2.81-2.81c.8-.78.8-2.07 0-2.86zM5.41 20L4 18.59l7.72-7.72 1.47 1.35L5.41 20z\"/>\n",
              "  </svg>\n",
              "      </button>\n",
              "      \n",
              "  <style>\n",
              "    .colab-df-container {\n",
              "      display:flex;\n",
              "      flex-wrap:wrap;\n",
              "      gap: 12px;\n",
              "    }\n",
              "\n",
              "    .colab-df-convert {\n",
              "      background-color: #E8F0FE;\n",
              "      border: none;\n",
              "      border-radius: 50%;\n",
              "      cursor: pointer;\n",
              "      display: none;\n",
              "      fill: #1967D2;\n",
              "      height: 32px;\n",
              "      padding: 0 0 0 0;\n",
              "      width: 32px;\n",
              "    }\n",
              "\n",
              "    .colab-df-convert:hover {\n",
              "      background-color: #E2EBFA;\n",
              "      box-shadow: 0px 1px 2px rgba(60, 64, 67, 0.3), 0px 1px 3px 1px rgba(60, 64, 67, 0.15);\n",
              "      fill: #174EA6;\n",
              "    }\n",
              "\n",
              "    [theme=dark] .colab-df-convert {\n",
              "      background-color: #3B4455;\n",
              "      fill: #D2E3FC;\n",
              "    }\n",
              "\n",
              "    [theme=dark] .colab-df-convert:hover {\n",
              "      background-color: #434B5C;\n",
              "      box-shadow: 0px 1px 3px 1px rgba(0, 0, 0, 0.15);\n",
              "      filter: drop-shadow(0px 1px 2px rgba(0, 0, 0, 0.3));\n",
              "      fill: #FFFFFF;\n",
              "    }\n",
              "  </style>\n",
              "\n",
              "      <script>\n",
              "        const buttonEl =\n",
              "          document.querySelector('#df-6f9d62f2-06fc-404e-a11c-69605dd1e186 button.colab-df-convert');\n",
              "        buttonEl.style.display =\n",
              "          google.colab.kernel.accessAllowed ? 'block' : 'none';\n",
              "\n",
              "        async function convertToInteractive(key) {\n",
              "          const element = document.querySelector('#df-6f9d62f2-06fc-404e-a11c-69605dd1e186');\n",
              "          const dataTable =\n",
              "            await google.colab.kernel.invokeFunction('convertToInteractive',\n",
              "                                                     [key], {});\n",
              "          if (!dataTable) return;\n",
              "\n",
              "          const docLinkHtml = 'Like what you see? Visit the ' +\n",
              "            '<a target=\"_blank\" href=https://colab.research.google.com/notebooks/data_table.ipynb>data table notebook</a>'\n",
              "            + ' to learn more about interactive tables.';\n",
              "          element.innerHTML = '';\n",
              "          dataTable['output_type'] = 'display_data';\n",
              "          await google.colab.output.renderOutput(dataTable, element);\n",
              "          const docLink = document.createElement('div');\n",
              "          docLink.innerHTML = docLinkHtml;\n",
              "          element.appendChild(docLink);\n",
              "        }\n",
              "      </script>\n",
              "    </div>\n",
              "  </div>\n",
              "  "
            ]
          },
          "metadata": {},
          "execution_count": 15
        }
      ]
    },
    {
      "cell_type": "markdown",
      "source": [
        "### ***Q4. Replace Empty Values in numerical and categorical columns***"
      ],
      "metadata": {
        "id": "jF0We4YjBCHT"
      }
    },
    {
      "cell_type": "markdown",
      "source": [
        "*numerical - mean*\n",
        "\n",
        "*categorical - mode*"
      ],
      "metadata": {
        "id": "Xqj9_voNCKso"
      }
    },
    {
      "cell_type": "code",
      "source": [
        "def get_mean(df):\n",
        "    x=np.array(df.dropna().values,float)\n",
        "    return x.mean()"
      ],
      "metadata": {
        "id": "K0iCWa41AyQU"
      },
      "execution_count": 16,
      "outputs": []
    },
    {
      "cell_type": "code",
      "source": [
        "df.make.fillna(df.make.mode()[0],inplace=True)\n",
        "df['peak-rpm'].fillna(get_mean(df['peak-rpm']),inplace=True)\n",
        "df['curb-weight'].fillna(get_mean(df['curb-weight']),inplace=True)\n",
        "df['body-style'].fillna(df['body-style'].mode()[0],inplace=True)\n",
        "df['wheel-base'].fillna(get_mean(df['wheel-base']),inplace=True)\n",
        "df['engine-type'].fillna(df['engine-type'].mode()[0],inplace=True)\n",
        "df['num-of-cylinders'].fillna(df['num-of-cylinders'].mode()[0],inplace=True)\n",
        "df.horsepower.fillna(get_mean(df.horsepower),inplace=True)\n",
        "df['city-mpg'].fillna(get_mean(df['city-mpg']),inplace=True)\n",
        "df.price.fillna(get_mean(df.price),inplace=True)"
      ],
      "metadata": {
        "id": "Mtrx9wTJgGVd"
      },
      "execution_count": 17,
      "outputs": []
    },
    {
      "cell_type": "code",
      "source": [
        "df.head(5)"
      ],
      "metadata": {
        "colab": {
          "base_uri": "https://localhost:8080/",
          "height": 206
        },
        "id": "LzL02NU_2aGX",
        "outputId": "139ca628-cb60-460e-928d-7dd95d8b9c65"
      },
      "execution_count": 18,
      "outputs": [
        {
          "output_type": "execute_result",
          "data": {
            "text/plain": [
              "          make     peak-rpm curb-weight   body-style wheel-base  length  \\\n",
              "0  alfa-romero         5000        2548  convertible       88.6   168.8   \n",
              "1  alfa-romero         5000        2823  convertible       88.6   168.8   \n",
              "2  alfa-romero         5500        2337    hatchback  99.066667   171.2   \n",
              "3         audi  5345.098039        2824        sedan       99.8   176.6   \n",
              "4         audi         5500        2507        sedan       99.4   176.6   \n",
              "\n",
              "  engine-type num-of-cylinders horsepower city-mpg  price  \n",
              "0        dohc             four        111       21  13495  \n",
              "1        dohc             four        111       21  16500  \n",
              "2        ohcv              six        154       19  16500  \n",
              "3         ohc             four        102       24  13950  \n",
              "4         ohc             five        115       18  17450  "
            ],
            "text/html": [
              "\n",
              "  <div id=\"df-5bbe49d9-aa98-4066-aa24-fc0526821af6\">\n",
              "    <div class=\"colab-df-container\">\n",
              "      <div>\n",
              "<style scoped>\n",
              "    .dataframe tbody tr th:only-of-type {\n",
              "        vertical-align: middle;\n",
              "    }\n",
              "\n",
              "    .dataframe tbody tr th {\n",
              "        vertical-align: top;\n",
              "    }\n",
              "\n",
              "    .dataframe thead th {\n",
              "        text-align: right;\n",
              "    }\n",
              "</style>\n",
              "<table border=\"1\" class=\"dataframe\">\n",
              "  <thead>\n",
              "    <tr style=\"text-align: right;\">\n",
              "      <th></th>\n",
              "      <th>make</th>\n",
              "      <th>peak-rpm</th>\n",
              "      <th>curb-weight</th>\n",
              "      <th>body-style</th>\n",
              "      <th>wheel-base</th>\n",
              "      <th>length</th>\n",
              "      <th>engine-type</th>\n",
              "      <th>num-of-cylinders</th>\n",
              "      <th>horsepower</th>\n",
              "      <th>city-mpg</th>\n",
              "      <th>price</th>\n",
              "    </tr>\n",
              "  </thead>\n",
              "  <tbody>\n",
              "    <tr>\n",
              "      <th>0</th>\n",
              "      <td>alfa-romero</td>\n",
              "      <td>5000</td>\n",
              "      <td>2548</td>\n",
              "      <td>convertible</td>\n",
              "      <td>88.6</td>\n",
              "      <td>168.8</td>\n",
              "      <td>dohc</td>\n",
              "      <td>four</td>\n",
              "      <td>111</td>\n",
              "      <td>21</td>\n",
              "      <td>13495</td>\n",
              "    </tr>\n",
              "    <tr>\n",
              "      <th>1</th>\n",
              "      <td>alfa-romero</td>\n",
              "      <td>5000</td>\n",
              "      <td>2823</td>\n",
              "      <td>convertible</td>\n",
              "      <td>88.6</td>\n",
              "      <td>168.8</td>\n",
              "      <td>dohc</td>\n",
              "      <td>four</td>\n",
              "      <td>111</td>\n",
              "      <td>21</td>\n",
              "      <td>16500</td>\n",
              "    </tr>\n",
              "    <tr>\n",
              "      <th>2</th>\n",
              "      <td>alfa-romero</td>\n",
              "      <td>5500</td>\n",
              "      <td>2337</td>\n",
              "      <td>hatchback</td>\n",
              "      <td>99.066667</td>\n",
              "      <td>171.2</td>\n",
              "      <td>ohcv</td>\n",
              "      <td>six</td>\n",
              "      <td>154</td>\n",
              "      <td>19</td>\n",
              "      <td>16500</td>\n",
              "    </tr>\n",
              "    <tr>\n",
              "      <th>3</th>\n",
              "      <td>audi</td>\n",
              "      <td>5345.098039</td>\n",
              "      <td>2824</td>\n",
              "      <td>sedan</td>\n",
              "      <td>99.8</td>\n",
              "      <td>176.6</td>\n",
              "      <td>ohc</td>\n",
              "      <td>four</td>\n",
              "      <td>102</td>\n",
              "      <td>24</td>\n",
              "      <td>13950</td>\n",
              "    </tr>\n",
              "    <tr>\n",
              "      <th>4</th>\n",
              "      <td>audi</td>\n",
              "      <td>5500</td>\n",
              "      <td>2507</td>\n",
              "      <td>sedan</td>\n",
              "      <td>99.4</td>\n",
              "      <td>176.6</td>\n",
              "      <td>ohc</td>\n",
              "      <td>five</td>\n",
              "      <td>115</td>\n",
              "      <td>18</td>\n",
              "      <td>17450</td>\n",
              "    </tr>\n",
              "  </tbody>\n",
              "</table>\n",
              "</div>\n",
              "      <button class=\"colab-df-convert\" onclick=\"convertToInteractive('df-5bbe49d9-aa98-4066-aa24-fc0526821af6')\"\n",
              "              title=\"Convert this dataframe to an interactive table.\"\n",
              "              style=\"display:none;\">\n",
              "        \n",
              "  <svg xmlns=\"http://www.w3.org/2000/svg\" height=\"24px\"viewBox=\"0 0 24 24\"\n",
              "       width=\"24px\">\n",
              "    <path d=\"M0 0h24v24H0V0z\" fill=\"none\"/>\n",
              "    <path d=\"M18.56 5.44l.94 2.06.94-2.06 2.06-.94-2.06-.94-.94-2.06-.94 2.06-2.06.94zm-11 1L8.5 8.5l.94-2.06 2.06-.94-2.06-.94L8.5 2.5l-.94 2.06-2.06.94zm10 10l.94 2.06.94-2.06 2.06-.94-2.06-.94-.94-2.06-.94 2.06-2.06.94z\"/><path d=\"M17.41 7.96l-1.37-1.37c-.4-.4-.92-.59-1.43-.59-.52 0-1.04.2-1.43.59L10.3 9.45l-7.72 7.72c-.78.78-.78 2.05 0 2.83L4 21.41c.39.39.9.59 1.41.59.51 0 1.02-.2 1.41-.59l7.78-7.78 2.81-2.81c.8-.78.8-2.07 0-2.86zM5.41 20L4 18.59l7.72-7.72 1.47 1.35L5.41 20z\"/>\n",
              "  </svg>\n",
              "      </button>\n",
              "      \n",
              "  <style>\n",
              "    .colab-df-container {\n",
              "      display:flex;\n",
              "      flex-wrap:wrap;\n",
              "      gap: 12px;\n",
              "    }\n",
              "\n",
              "    .colab-df-convert {\n",
              "      background-color: #E8F0FE;\n",
              "      border: none;\n",
              "      border-radius: 50%;\n",
              "      cursor: pointer;\n",
              "      display: none;\n",
              "      fill: #1967D2;\n",
              "      height: 32px;\n",
              "      padding: 0 0 0 0;\n",
              "      width: 32px;\n",
              "    }\n",
              "\n",
              "    .colab-df-convert:hover {\n",
              "      background-color: #E2EBFA;\n",
              "      box-shadow: 0px 1px 2px rgba(60, 64, 67, 0.3), 0px 1px 3px 1px rgba(60, 64, 67, 0.15);\n",
              "      fill: #174EA6;\n",
              "    }\n",
              "\n",
              "    [theme=dark] .colab-df-convert {\n",
              "      background-color: #3B4455;\n",
              "      fill: #D2E3FC;\n",
              "    }\n",
              "\n",
              "    [theme=dark] .colab-df-convert:hover {\n",
              "      background-color: #434B5C;\n",
              "      box-shadow: 0px 1px 3px 1px rgba(0, 0, 0, 0.15);\n",
              "      filter: drop-shadow(0px 1px 2px rgba(0, 0, 0, 0.3));\n",
              "      fill: #FFFFFF;\n",
              "    }\n",
              "  </style>\n",
              "\n",
              "      <script>\n",
              "        const buttonEl =\n",
              "          document.querySelector('#df-5bbe49d9-aa98-4066-aa24-fc0526821af6 button.colab-df-convert');\n",
              "        buttonEl.style.display =\n",
              "          google.colab.kernel.accessAllowed ? 'block' : 'none';\n",
              "\n",
              "        async function convertToInteractive(key) {\n",
              "          const element = document.querySelector('#df-5bbe49d9-aa98-4066-aa24-fc0526821af6');\n",
              "          const dataTable =\n",
              "            await google.colab.kernel.invokeFunction('convertToInteractive',\n",
              "                                                     [key], {});\n",
              "          if (!dataTable) return;\n",
              "\n",
              "          const docLinkHtml = 'Like what you see? Visit the ' +\n",
              "            '<a target=\"_blank\" href=https://colab.research.google.com/notebooks/data_table.ipynb>data table notebook</a>'\n",
              "            + ' to learn more about interactive tables.';\n",
              "          element.innerHTML = '';\n",
              "          dataTable['output_type'] = 'display_data';\n",
              "          await google.colab.output.renderOutput(dataTable, element);\n",
              "          const docLink = document.createElement('div');\n",
              "          docLink.innerHTML = docLinkHtml;\n",
              "          element.appendChild(docLink);\n",
              "        }\n",
              "      </script>\n",
              "    </div>\n",
              "  </div>\n",
              "  "
            ]
          },
          "metadata": {},
          "execution_count": 18
        }
      ]
    },
    {
      "cell_type": "markdown",
      "source": [
        "### ***convert column datatypes***"
      ],
      "metadata": {
        "id": "aN9Ub5nx9wGV"
      }
    },
    {
      "cell_type": "code",
      "source": [
        "df['peak-rpm'] = df['peak-rpm'].astype(float) # convert 'col2' to numeric df['col2'] = pd.to_numeric(df['col2'])\n",
        "df['curb-weight'] = pd.to_numeric(df['curb-weight'])\n",
        "df['wheel-base'] = df['wheel-base'].astype(float)\n",
        "df['horsepower'] = df['horsepower'].astype(float)\n",
        "df['city-mpg'] = df['city-mpg'].astype(float)\n",
        "df['price'] = df['price'].astype(float)"
      ],
      "metadata": {
        "id": "1CPMQMN5-D2M"
      },
      "execution_count": 19,
      "outputs": []
    },
    {
      "cell_type": "code",
      "source": [
        "df.dtypes"
      ],
      "metadata": {
        "colab": {
          "base_uri": "https://localhost:8080/"
        },
        "id": "10DtUpGR-6gC",
        "outputId": "3c3bc76c-01f3-43c7-f7d2-b1496ebadfe6"
      },
      "execution_count": 20,
      "outputs": [
        {
          "output_type": "execute_result",
          "data": {
            "text/plain": [
              "make                 object\n",
              "peak-rpm            float64\n",
              "curb-weight         float64\n",
              "body-style           object\n",
              "wheel-base          float64\n",
              "length              float64\n",
              "engine-type          object\n",
              "num-of-cylinders     object\n",
              "horsepower          float64\n",
              "city-mpg            float64\n",
              "price               float64\n",
              "dtype: object"
            ]
          },
          "metadata": {},
          "execution_count": 20
        }
      ]
    },
    {
      "cell_type": "markdown",
      "source": [
        "###  ***Q5.Remove Outliers***"
      ],
      "metadata": {
        "id": "lkkLPvsSPDwp"
      }
    },
    {
      "cell_type": "markdown",
      "source": [
        "*Before removing outliers*"
      ],
      "metadata": {
        "id": "GJNB67ANQXR6"
      }
    },
    {
      "cell_type": "code",
      "source": [
        "import matplotlib.pyplot as plt"
      ],
      "metadata": {
        "id": "ujIUpySIAyWA"
      },
      "execution_count": 21,
      "outputs": []
    },
    {
      "cell_type": "code",
      "source": [
        "df.plot (kind='box')"
      ],
      "metadata": {
        "colab": {
          "base_uri": "https://localhost:8080/",
          "height": 448
        },
        "id": "FRn3KOtWBUKx",
        "outputId": "1355fc54-0a7a-4b3c-df45-bef146d4407b"
      },
      "execution_count": 22,
      "outputs": [
        {
          "output_type": "execute_result",
          "data": {
            "text/plain": [
              "<Axes: >"
            ]
          },
          "metadata": {},
          "execution_count": 22
        },
        {
          "output_type": "display_data",
          "data": {
            "text/plain": [
              "<Figure size 640x480 with 1 Axes>"
            ],
            "image/png": "[encoded data removed]"
          },
          "metadata": {}
        }
      ]
    },
    {
      "cell_type": "code",
      "source": [
        "plt.boxplot(df['price'])"
      ],
      "metadata": {
        "colab": {
          "base_uri": "https://localhost:8080/",
          "height": 576
        },
        "id": "Pq7zXkreDVmb",
        "outputId": "47e9ccb3-ec63-4ce1-d89f-cfee9f9d29bd"
      },
      "execution_count": 23,
      "outputs": [
        {
          "output_type": "execute_result",
          "data": {
            "text/plain": [
              "{'whiskers': [<matplotlib.lines.Line2D at 0x7f0a7eff5280>,\n",
              "  <matplotlib.lines.Line2D at 0x7f0a7eff5400>],\n",
              " 'caps': [<matplotlib.lines.Line2D at 0x7f0a7eff56a0>,\n",
              "  <matplotlib.lines.Line2D at 0x7f0a7eff5940>],\n",
              " 'boxes': [<matplotlib.lines.Line2D at 0x7f0a7efe1fa0>],\n",
              " 'medians': [<matplotlib.lines.Line2D at 0x7f0a7eff5be0>],\n",
              " 'fliers': [<matplotlib.lines.Line2D at 0x7f0a7eff5e80>],\n",
              " 'means': []}"
            ]
          },
          "metadata": {},
          "execution_count": 23
        },
        {
          "output_type": "display_data",
          "data": {
            "text/plain": [
              "<Figure size 640x480 with 1 Axes>"
            ],
            "image/png": "[encoded data removed]"
          },
          "metadata": {}
        }
      ]
    },
    {
      "cell_type": "code",
      "source": [
        "Q1 = df['price'].quantile(0.25)\n",
        "Q3 = df['price'].quantile(0.75)\n",
        "IQR = Q3 - Q1"
      ],
      "metadata": {
        "id": "RGbpVXEwDcbF"
      },
      "execution_count": 24,
      "outputs": []
    },
    {
      "cell_type": "code",
      "source": [
        "outliers = df[(df['price'] < (Q1 - 1.5 * IQR)) | (df['price'] > (Q3 + 1.5 * IQR))]\n",
        "#df = df[(df['price'] > (Q1 - 1.5 * IQR)) | (df['price'] < (Q3 + 1.5 * IQR))]"
      ],
      "metadata": {
        "id": "2zJlfWt9DrJl"
      },
      "execution_count": 25,
      "outputs": []
    },
    {
      "cell_type": "code",
      "source": [
        "outliers"
      ],
      "metadata": {
        "colab": {
          "base_uri": "https://localhost:8080/",
          "height": 300
        },
        "id": "CRFyYOqHD-Aa",
        "outputId": "fc52c399-0247-4c80-e241-ad953398bbee"
      },
      "execution_count": 26,
      "outputs": [
        {
          "output_type": "execute_result",
          "data": {
            "text/plain": [
              "             make     peak-rpm  curb-weight   body-style  wheel-base  length  \\\n",
              "11            bmw  4250.000000  2710.000000        sedan       103.5   193.8   \n",
              "12            bmw  4250.000000  2765.000000        sedan       110.0   197.0   \n",
              "25         jaguar  5345.098039  1989.000000        sedan       113.0   199.6   \n",
              "26         jaguar  5500.000000  2450.842105        sedan       102.0   191.7   \n",
              "34  mercedes-benz  5345.098039  2010.000000        sedan       120.9   208.1   \n",
              "35  mercedes-benz  6000.000000  2024.000000      hardtop       112.0   199.2   \n",
              "45        porsche  5000.000000  2734.000000      hardtop        89.5   168.9   \n",
              "46        porsche  4750.000000  4066.000000  convertible        89.5   168.9   \n",
              "\n",
              "   engine-type num-of-cylinders  horsepower  city-mpg    price  \n",
              "11         ohc              six       182.0      16.0  41315.0  \n",
              "12         ohc              six       182.0      15.0  36880.0  \n",
              "25        dohc              six       176.0      15.0  35550.0  \n",
              "26        ohcv           twelve       262.0      13.0  36000.0  \n",
              "34        ohcv            eight     21312.0      14.0  40960.0  \n",
              "35        ohcv            eight       184.0      14.0  45400.0  \n",
              "45        ohcf              six     12123.0      17.0  34028.0  \n",
              "46        ohcf              six       207.0      17.0  37028.0  "
            ],
            "text/html": [
              "\n",
              "  <div id=\"df-7c36e20f-ce6f-47f7-a726-e0743cd78890\">\n",
              "    <div class=\"colab-df-container\">\n",
              "      <div>\n",
              "<style scoped>\n",
              "    .dataframe tbody tr th:only-of-type {\n",
              "        vertical-align: middle;\n",
              "    }\n",
              "\n",
              "    .dataframe tbody tr th {\n",
              "        vertical-align: top;\n",
              "    }\n",
              "\n",
              "    .dataframe thead th {\n",
              "        text-align: right;\n",
              "    }\n",
              "</style>\n",
              "<table border=\"1\" class=\"dataframe\">\n",
              "  <thead>\n",
              "    <tr style=\"text-align: right;\">\n",
              "      <th></th>\n",
              "      <th>make</th>\n",
              "      <th>peak-rpm</th>\n",
              "      <th>curb-weight</th>\n",
              "      <th>body-style</th>\n",
              "      <th>wheel-base</th>\n",
              "      <th>length</th>\n",
              "      <th>engine-type</th>\n",
              "      <th>num-of-cylinders</th>\n",
              "      <th>horsepower</th>\n",
              "      <th>city-mpg</th>\n",
              "      <th>price</th>\n",
              "    </tr>\n",
              "  </thead>\n",
              "  <tbody>\n",
              "    <tr>\n",
              "      <th>11</th>\n",
              "      <td>bmw</td>\n",
              "      <td>4250.000000</td>\n",
              "      <td>2710.000000</td>\n",
              "      <td>sedan</td>\n",
              "      <td>103.5</td>\n",
              "      <td>193.8</td>\n",
              "      <td>ohc</td>\n",
              "      <td>six</td>\n",
              "      <td>182.0</td>\n",
              "      <td>16.0</td>\n",
              "      <td>41315.0</td>\n",
              "    </tr>\n",
              "    <tr>\n",
              "      <th>12</th>\n",
              "      <td>bmw</td>\n",
              "      <td>4250.000000</td>\n",
              "      <td>2765.000000</td>\n",
              "      <td>sedan</td>\n",
              "      <td>110.0</td>\n",
              "      <td>197.0</td>\n",
              "      <td>ohc</td>\n",
              "      <td>six</td>\n",
              "      <td>182.0</td>\n",
              "      <td>15.0</td>\n",
              "      <td>36880.0</td>\n",
              "    </tr>\n",
              "    <tr>\n",
              "      <th>25</th>\n",
              "      <td>jaguar</td>\n",
              "      <td>5345.098039</td>\n",
              "      <td>1989.000000</td>\n",
              "      <td>sedan</td>\n",
              "      <td>113.0</td>\n",
              "      <td>199.6</td>\n",
              "      <td>dohc</td>\n",
              "      <td>six</td>\n",
              "      <td>176.0</td>\n",
              "      <td>15.0</td>\n",
              "      <td>35550.0</td>\n",
              "    </tr>\n",
              "    <tr>\n",
              "      <th>26</th>\n",
              "      <td>jaguar</td>\n",
              "      <td>5500.000000</td>\n",
              "      <td>2450.842105</td>\n",
              "      <td>sedan</td>\n",
              "      <td>102.0</td>\n",
              "      <td>191.7</td>\n",
              "      <td>ohcv</td>\n",
              "      <td>twelve</td>\n",
              "      <td>262.0</td>\n",
              "      <td>13.0</td>\n",
              "      <td>36000.0</td>\n",
              "    </tr>\n",
              "    <tr>\n",
              "      <th>34</th>\n",
              "      <td>mercedes-benz</td>\n",
              "      <td>5345.098039</td>\n",
              "      <td>2010.000000</td>\n",
              "      <td>sedan</td>\n",
              "      <td>120.9</td>\n",
              "      <td>208.1</td>\n",
              "      <td>ohcv</td>\n",
              "      <td>eight</td>\n",
              "      <td>21312.0</td>\n",
              "      <td>14.0</td>\n",
              "      <td>40960.0</td>\n",
              "    </tr>\n",
              "    <tr>\n",
              "      <th>35</th>\n",
              "      <td>mercedes-benz</td>\n",
              "      <td>6000.000000</td>\n",
              "      <td>2024.000000</td>\n",
              "      <td>hardtop</td>\n",
              "      <td>112.0</td>\n",
              "      <td>199.2</td>\n",
              "      <td>ohcv</td>\n",
              "      <td>eight</td>\n",
              "      <td>184.0</td>\n",
              "      <td>14.0</td>\n",
              "      <td>45400.0</td>\n",
              "    </tr>\n",
              "    <tr>\n",
              "      <th>45</th>\n",
              "      <td>porsche</td>\n",
              "      <td>5000.000000</td>\n",
              "      <td>2734.000000</td>\n",
              "      <td>hardtop</td>\n",
              "      <td>89.5</td>\n",
              "      <td>168.9</td>\n",
              "      <td>ohcf</td>\n",
              "      <td>six</td>\n",
              "      <td>12123.0</td>\n",
              "      <td>17.0</td>\n",
              "      <td>34028.0</td>\n",
              "    </tr>\n",
              "    <tr>\n",
              "      <th>46</th>\n",
              "      <td>porsche</td>\n",
              "      <td>4750.000000</td>\n",
              "      <td>4066.000000</td>\n",
              "      <td>convertible</td>\n",
              "      <td>89.5</td>\n",
              "      <td>168.9</td>\n",
              "      <td>ohcf</td>\n",
              "      <td>six</td>\n",
              "      <td>207.0</td>\n",
              "      <td>17.0</td>\n",
              "      <td>37028.0</td>\n",
              "    </tr>\n",
              "  </tbody>\n",
              "</table>\n",
              "</div>\n",
              "      <button class=\"colab-df-convert\" onclick=\"convertToInteractive('df-7c36e20f-ce6f-47f7-a726-e0743cd78890')\"\n",
              "              title=\"Convert this dataframe to an interactive table.\"\n",
              "              style=\"display:none;\">\n",
              "        \n",
              "  <svg xmlns=\"http://www.w3.org/2000/svg\" height=\"24px\"viewBox=\"0 0 24 24\"\n",
              "       width=\"24px\">\n",
              "    <path d=\"M0 0h24v24H0V0z\" fill=\"none\"/>\n",
              "    <path d=\"M18.56 5.44l.94 2.06.94-2.06 2.06-.94-2.06-.94-.94-2.06-.94 2.06-2.06.94zm-11 1L8.5 8.5l.94-2.06 2.06-.94-2.06-.94L8.5 2.5l-.94 2.06-2.06.94zm10 10l.94 2.06.94-2.06 2.06-.94-2.06-.94-.94-2.06-.94 2.06-2.06.94z\"/><path d=\"M17.41 7.96l-1.37-1.37c-.4-.4-.92-.59-1.43-.59-.52 0-1.04.2-1.43.59L10.3 9.45l-7.72 7.72c-.78.78-.78 2.05 0 2.83L4 21.41c.39.39.9.59 1.41.59.51 0 1.02-.2 1.41-.59l7.78-7.78 2.81-2.81c.8-.78.8-2.07 0-2.86zM5.41 20L4 18.59l7.72-7.72 1.47 1.35L5.41 20z\"/>\n",
              "  </svg>\n",
              "      </button>\n",
              "      \n",
              "  <style>\n",
              "    .colab-df-container {\n",
              "      display:flex;\n",
              "      flex-wrap:wrap;\n",
              "      gap: 12px;\n",
              "    }\n",
              "\n",
              "    .colab-df-convert {\n",
              "      background-color: #E8F0FE;\n",
              "      border: none;\n",
              "      border-radius: 50%;\n",
              "      cursor: pointer;\n",
              "      display: none;\n",
              "      fill: #1967D2;\n",
              "      height: 32px;\n",
              "      padding: 0 0 0 0;\n",
              "      width: 32px;\n",
              "    }\n",
              "\n",
              "    .colab-df-convert:hover {\n",
              "      background-color: #E2EBFA;\n",
              "      box-shadow: 0px 1px 2px rgba(60, 64, 67, 0.3), 0px 1px 3px 1px rgba(60, 64, 67, 0.15);\n",
              "      fill: #174EA6;\n",
              "    }\n",
              "\n",
              "    [theme=dark] .colab-df-convert {\n",
              "      background-color: #3B4455;\n",
              "      fill: #D2E3FC;\n",
              "    }\n",
              "\n",
              "    [theme=dark] .colab-df-convert:hover {\n",
              "      background-color: #434B5C;\n",
              "      box-shadow: 0px 1px 3px 1px rgba(0, 0, 0, 0.15);\n",
              "      filter: drop-shadow(0px 1px 2px rgba(0, 0, 0, 0.3));\n",
              "      fill: #FFFFFF;\n",
              "    }\n",
              "  </style>\n",
              "\n",
              "      <script>\n",
              "        const buttonEl =\n",
              "          document.querySelector('#df-7c36e20f-ce6f-47f7-a726-e0743cd78890 button.colab-df-convert');\n",
              "        buttonEl.style.display =\n",
              "          google.colab.kernel.accessAllowed ? 'block' : 'none';\n",
              "\n",
              "        async function convertToInteractive(key) {\n",
              "          const element = document.querySelector('#df-7c36e20f-ce6f-47f7-a726-e0743cd78890');\n",
              "          const dataTable =\n",
              "            await google.colab.kernel.invokeFunction('convertToInteractive',\n",
              "                                                     [key], {});\n",
              "          if (!dataTable) return;\n",
              "\n",
              "          const docLinkHtml = 'Like what you see? Visit the ' +\n",
              "            '<a target=\"_blank\" href=https://colab.research.google.com/notebooks/data_table.ipynb>data table notebook</a>'\n",
              "            + ' to learn more about interactive tables.';\n",
              "          element.innerHTML = '';\n",
              "          dataTable['output_type'] = 'display_data';\n",
              "          await google.colab.output.renderOutput(dataTable, element);\n",
              "          const docLink = document.createElement('div');\n",
              "          docLink.innerHTML = docLinkHtml;\n",
              "          element.appendChild(docLink);\n",
              "        }\n",
              "      </script>\n",
              "    </div>\n",
              "  </div>\n",
              "  "
            ]
          },
          "metadata": {},
          "execution_count": 26
        }
      ]
    },
    {
      "cell_type": "code",
      "source": [
        "df.drop(outliers.index,inplace=True,axis=0)"
      ],
      "metadata": {
        "id": "43VJXKyXEH3f"
      },
      "execution_count": 27,
      "outputs": []
    },
    {
      "cell_type": "markdown",
      "source": [
        "*After removing outliers*"
      ],
      "metadata": {
        "id": "s_fRSOdPQjC3"
      }
    },
    {
      "cell_type": "code",
      "source": [
        "df.plot (kind='box')"
      ],
      "metadata": {
        "colab": {
          "base_uri": "https://localhost:8080/",
          "height": 448
        },
        "id": "tx9v2j8fEofT",
        "outputId": "d5eb992a-f55f-41b3-ba68-59028d028777"
      },
      "execution_count": 28,
      "outputs": [
        {
          "output_type": "execute_result",
          "data": {
            "text/plain": [
              "<Axes: >"
            ]
          },
          "metadata": {},
          "execution_count": 28
        },
        {
          "output_type": "display_data",
          "data": {
            "text/plain": [
              "<Figure size 640x480 with 1 Axes>"
            ],
            "image/png": "[encoded data removed]"
          },
          "metadata": {}
        }
      ]
    },
    {
      "cell_type": "markdown",
      "source": [
        "### ***Cleaned Dataset*** "
      ],
      "metadata": {
        "id": "UN3ujG5DQrxQ"
      }
    },
    {
      "cell_type": "code",
      "source": [
        "df.shape"
      ],
      "metadata": {
        "colab": {
          "base_uri": "https://localhost:8080/"
        },
        "id": "8NcJ941FF1o6",
        "outputId": "d0305bcf-b539-49c0-a963-accc807c0459"
      },
      "execution_count": 29,
      "outputs": [
        {
          "output_type": "execute_result",
          "data": {
            "text/plain": [
              "(53, 11)"
            ]
          },
          "metadata": {},
          "execution_count": 29
        }
      ]
    },
    {
      "cell_type": "code",
      "source": [
        "df.describe()"
      ],
      "metadata": {
        "colab": {
          "base_uri": "https://localhost:8080/",
          "height": 300
        },
        "id": "qTNCthwONg7a",
        "outputId": "0018f412-fb5e-4ad3-f998-478d07d4c37f"
      },
      "execution_count": 30,
      "outputs": [
        {
          "output_type": "execute_result",
          "data": {
            "text/plain": [
              "          peak-rpm  curb-weight  wheel-base      length    horsepower  \\\n",
              "count    53.000000    53.000000   53.000000   53.000000     53.000000   \n",
              "mean   5388.882723  2429.292949   98.163522  170.411321    848.324984   \n",
              "std     370.811567   543.271229    4.938469   11.948763   3618.537782   \n",
              "min    4750.000000  1488.000000   88.400000  141.100000     48.000000   \n",
              "25%    5000.000000  1945.000000   95.700000  159.100000     68.000000   \n",
              "50%    5400.000000  2385.000000   97.300000  170.200000    100.000000   \n",
              "75%    5500.000000  2548.000000   99.800000  176.600000    121.000000   \n",
              "max    6000.000000  4066.000000  113.000000  199.600000  23212.000000   \n",
              "\n",
              "            city-mpg         price  \n",
              "count      53.000000     53.000000  \n",
              "mean     2042.732390  11442.572327  \n",
              "std     17224.832158   6228.807743  \n",
              "min    -21312.000000      0.000000  \n",
              "25%        22.000000   6785.000000  \n",
              "50%        27.000000   8778.000000  \n",
              "75%        32.000000  14977.333333  \n",
              "max    123213.000000  30760.000000  "
            ],
            "text/html": [
              "\n",
              "  <div id=\"df-4d85ee61-561a-4b82-b19d-34328c7a8062\">\n",
              "    <div class=\"colab-df-container\">\n",
              "      <div>\n",
              "<style scoped>\n",
              "    .dataframe tbody tr th:only-of-type {\n",
              "        vertical-align: middle;\n",
              "    }\n",
              "\n",
              "    .dataframe tbody tr th {\n",
              "        vertical-align: top;\n",
              "    }\n",
              "\n",
              "    .dataframe thead th {\n",
              "        text-align: right;\n",
              "    }\n",
              "</style>\n",
              "<table border=\"1\" class=\"dataframe\">\n",
              "  <thead>\n",
              "    <tr style=\"text-align: right;\">\n",
              "      <th></th>\n",
              "      <th>peak-rpm</th>\n",
              "      <th>curb-weight</th>\n",
              "      <th>wheel-base</th>\n",
              "      <th>length</th>\n",
              "      <th>horsepower</th>\n",
              "      <th>city-mpg</th>\n",
              "      <th>price</th>\n",
              "    </tr>\n",
              "  </thead>\n",
              "  <tbody>\n",
              "    <tr>\n",
              "      <th>count</th>\n",
              "      <td>53.000000</td>\n",
              "      <td>53.000000</td>\n",
              "      <td>53.000000</td>\n",
              "      <td>53.000000</td>\n",
              "      <td>53.000000</td>\n",
              "      <td>53.000000</td>\n",
              "      <td>53.000000</td>\n",
              "    </tr>\n",
              "    <tr>\n",
              "      <th>mean</th>\n",
              "      <td>5388.882723</td>\n",
              "      <td>2429.292949</td>\n",
              "      <td>98.163522</td>\n",
              "      <td>170.411321</td>\n",
              "      <td>848.324984</td>\n",
              "      <td>2042.732390</td>\n",
              "      <td>11442.572327</td>\n",
              "    </tr>\n",
              "    <tr>\n",
              "      <th>std</th>\n",
              "      <td>370.811567</td>\n",
              "      <td>543.271229</td>\n",
              "      <td>4.938469</td>\n",
              "      <td>11.948763</td>\n",
              "      <td>3618.537782</td>\n",
              "      <td>17224.832158</td>\n",
              "      <td>6228.807743</td>\n",
              "    </tr>\n",
              "    <tr>\n",
              "      <th>min</th>\n",
              "      <td>4750.000000</td>\n",
              "      <td>1488.000000</td>\n",
              "      <td>88.400000</td>\n",
              "      <td>141.100000</td>\n",
              "      <td>48.000000</td>\n",
              "      <td>-21312.000000</td>\n",
              "      <td>0.000000</td>\n",
              "    </tr>\n",
              "    <tr>\n",
              "      <th>25%</th>\n",
              "      <td>5000.000000</td>\n",
              "      <td>1945.000000</td>\n",
              "      <td>95.700000</td>\n",
              "      <td>159.100000</td>\n",
              "      <td>68.000000</td>\n",
              "      <td>22.000000</td>\n",
              "      <td>6785.000000</td>\n",
              "    </tr>\n",
              "    <tr>\n",
              "      <th>50%</th>\n",
              "      <td>5400.000000</td>\n",
              "      <td>2385.000000</td>\n",
              "      <td>97.300000</td>\n",
              "      <td>170.200000</td>\n",
              "      <td>100.000000</td>\n",
              "      <td>27.000000</td>\n",
              "      <td>8778.000000</td>\n",
              "    </tr>\n",
              "    <tr>\n",
              "      <th>75%</th>\n",
              "      <td>5500.000000</td>\n",
              "      <td>2548.000000</td>\n",
              "      <td>99.800000</td>\n",
              "      <td>176.600000</td>\n",
              "      <td>121.000000</td>\n",
              "      <td>32.000000</td>\n",
              "      <td>14977.333333</td>\n",
              "    </tr>\n",
              "    <tr>\n",
              "      <th>max</th>\n",
              "      <td>6000.000000</td>\n",
              "      <td>4066.000000</td>\n",
              "      <td>113.000000</td>\n",
              "      <td>199.600000</td>\n",
              "      <td>23212.000000</td>\n",
              "      <td>123213.000000</td>\n",
              "      <td>30760.000000</td>\n",
              "    </tr>\n",
              "  </tbody>\n",
              "</table>\n",
              "</div>\n",
              "      <button class=\"colab-df-convert\" onclick=\"convertToInteractive('df-4d85ee61-561a-4b82-b19d-34328c7a8062')\"\n",
              "              title=\"Convert this dataframe to an interactive table.\"\n",
              "              style=\"display:none;\">\n",
              "        \n",
              "  <svg xmlns=\"http://www.w3.org/2000/svg\" height=\"24px\"viewBox=\"0 0 24 24\"\n",
              "       width=\"24px\">\n",
              "    <path d=\"M0 0h24v24H0V0z\" fill=\"none\"/>\n",
              "    <path d=\"M18.56 5.44l.94 2.06.94-2.06 2.06-.94-2.06-.94-.94-2.06-.94 2.06-2.06.94zm-11 1L8.5 8.5l.94-2.06 2.06-.94-2.06-.94L8.5 2.5l-.94 2.06-2.06.94zm10 10l.94 2.06.94-2.06 2.06-.94-2.06-.94-.94-2.06-.94 2.06-2.06.94z\"/><path d=\"M17.41 7.96l-1.37-1.37c-.4-.4-.92-.59-1.43-.59-.52 0-1.04.2-1.43.59L10.3 9.45l-7.72 7.72c-.78.78-.78 2.05 0 2.83L4 21.41c.39.39.9.59 1.41.59.51 0 1.02-.2 1.41-.59l7.78-7.78 2.81-2.81c.8-.78.8-2.07 0-2.86zM5.41 20L4 18.59l7.72-7.72 1.47 1.35L5.41 20z\"/>\n",
              "  </svg>\n",
              "      </button>\n",
              "      \n",
              "  <style>\n",
              "    .colab-df-container {\n",
              "      display:flex;\n",
              "      flex-wrap:wrap;\n",
              "      gap: 12px;\n",
              "    }\n",
              "\n",
              "    .colab-df-convert {\n",
              "      background-color: #E8F0FE;\n",
              "      border: none;\n",
              "      border-radius: 50%;\n",
              "      cursor: pointer;\n",
              "      display: none;\n",
              "      fill: #1967D2;\n",
              "      height: 32px;\n",
              "      padding: 0 0 0 0;\n",
              "      width: 32px;\n",
              "    }\n",
              "\n",
              "    .colab-df-convert:hover {\n",
              "      background-color: #E2EBFA;\n",
              "      box-shadow: 0px 1px 2px rgba(60, 64, 67, 0.3), 0px 1px 3px 1px rgba(60, 64, 67, 0.15);\n",
              "      fill: #174EA6;\n",
              "    }\n",
              "\n",
              "    [theme=dark] .colab-df-convert {\n",
              "      background-color: #3B4455;\n",
              "      fill: #D2E3FC;\n",
              "    }\n",
              "\n",
              "    [theme=dark] .colab-df-convert:hover {\n",
              "      background-color: #434B5C;\n",
              "      box-shadow: 0px 1px 3px 1px rgba(0, 0, 0, 0.15);\n",
              "      filter: drop-shadow(0px 1px 2px rgba(0, 0, 0, 0.3));\n",
              "      fill: #FFFFFF;\n",
              "    }\n",
              "  </style>\n",
              "\n",
              "      <script>\n",
              "        const buttonEl =\n",
              "          document.querySelector('#df-4d85ee61-561a-4b82-b19d-34328c7a8062 button.colab-df-convert');\n",
              "        buttonEl.style.display =\n",
              "          google.colab.kernel.accessAllowed ? 'block' : 'none';\n",
              "\n",
              "        async function convertToInteractive(key) {\n",
              "          const element = document.querySelector('#df-4d85ee61-561a-4b82-b19d-34328c7a8062');\n",
              "          const dataTable =\n",
              "            await google.colab.kernel.invokeFunction('convertToInteractive',\n",
              "                                                     [key], {});\n",
              "          if (!dataTable) return;\n",
              "\n",
              "          const docLinkHtml = 'Like what you see? Visit the ' +\n",
              "            '<a target=\"_blank\" href=https://colab.research.google.com/notebooks/data_table.ipynb>data table notebook</a>'\n",
              "            + ' to learn more about interactive tables.';\n",
              "          element.innerHTML = '';\n",
              "          dataTable['output_type'] = 'display_data';\n",
              "          await google.colab.output.renderOutput(dataTable, element);\n",
              "          const docLink = document.createElement('div');\n",
              "          docLink.innerHTML = docLinkHtml;\n",
              "          element.appendChild(docLink);\n",
              "        }\n",
              "      </script>\n",
              "    </div>\n",
              "  </div>\n",
              "  "
            ]
          },
          "metadata": {},
          "execution_count": 30
        }
      ]
    },
    {
      "cell_type": "code",
      "source": [
        "df.info()"
      ],
      "metadata": {
        "colab": {
          "base_uri": "https://localhost:8080/"
        },
        "id": "k25I6f8u9GaL",
        "outputId": "3042fe10-ee73-44c5-eb30-321e224cd160"
      },
      "execution_count": 31,
      "outputs": [
        {
          "output_type": "stream",
          "name": "stdout",
          "text": [
            "<class 'pandas.core.frame.DataFrame'>\n",
            "Int64Index: 53 entries, 0 to 60\n",
            "Data columns (total 11 columns):\n",
            " #   Column            Non-Null Count  Dtype  \n",
            "---  ------            --------------  -----  \n",
            " 0   make              53 non-null     object \n",
            " 1   peak-rpm          53 non-null     float64\n",
            " 2   curb-weight       53 non-null     float64\n",
            " 3   body-style        53 non-null     object \n",
            " 4   wheel-base        53 non-null     float64\n",
            " 5   length            53 non-null     float64\n",
            " 6   engine-type       53 non-null     object \n",
            " 7   num-of-cylinders  53 non-null     object \n",
            " 8   horsepower        53 non-null     float64\n",
            " 9   city-mpg          53 non-null     float64\n",
            " 10  price             53 non-null     float64\n",
            "dtypes: float64(7), object(4)\n",
            "memory usage: 5.0+ KB\n"
          ]
        }
      ]
    },
    {
      "cell_type": "markdown",
      "source": [
        "### *ML Algorithm* \n",
        "\n",
        "*As price column is continuous so it is linear regression problem*"
      ],
      "metadata": {
        "id": "u6TL6trRRdWa"
      }
    },
    {
      "cell_type": "code",
      "source": [
        "# filter out the categorical variables and consider only the numeric variables using (include=np.number)\n",
        "df_numeric_features = df.select_dtypes(include=np.number)\n",
        "\n",
        "# display the numeric features\n",
        "df_numeric_features.columns"
      ],
      "metadata": {
        "colab": {
          "base_uri": "https://localhost:8080/"
        },
        "id": "1RBiVuOSW8qg",
        "outputId": "390f88e5-2349-4bf9-f33e-65c70c76af1e"
      },
      "execution_count": 34,
      "outputs": [
        {
          "output_type": "execute_result",
          "data": {
            "text/plain": [
              "Index(['peak-rpm', 'curb-weight', 'wheel-base', 'length', 'horsepower',\n",
              "       'city-mpg', 'price'],\n",
              "      dtype='object')"
            ]
          },
          "metadata": {},
          "execution_count": 34
        }
      ]
    },
    {
      "cell_type": "code",
      "source": [
        "# filter out the numerical variables and consider only the categorical variables using (include=object)\n",
        "df_categoric_features = df.select_dtypes(include = object)\n",
        "\n",
        "# display categorical features\n",
        "df_categoric_features.columns"
      ],
      "metadata": {
        "id": "Wg8Fq43eZV92"
      },
      "execution_count": 35,
      "outputs": []
    },
    {
      "cell_type": "code",
      "source": [
        "# to create the dummy variables  we use 'get_dummies()' from pandas\n",
        "# to create (n-1) dummy variables we use 'drop_first = True'\n",
        "dummy_encoded_variables = pd.get_dummies(df_categoric_features, drop_first = True)"
      ],
      "metadata": {
        "id": "Cq6OZNquZpnL"
      },
      "execution_count": 37,
      "outputs": []
    },
    {
      "cell_type": "code",
      "source": [
        "dummy_encoded_variables.shape"
      ],
      "metadata": {
        "colab": {
          "base_uri": "https://localhost:8080/"
        },
        "id": "p7TLN5hEZ7yA",
        "outputId": "3e099b95-2615-4ec8-fb2f-7c26fab7ea27"
      },
      "execution_count": 38,
      "outputs": [
        {
          "output_type": "execute_result",
          "data": {
            "text/plain": [
              "(53, 27)"
            ]
          },
          "metadata": {},
          "execution_count": 38
        }
      ]
    },
    {
      "cell_type": "code",
      "source": [
        "# concatenate the numerical and dummy encoded categorical variables column-wise\n",
        "df = pd.concat([df_numeric_features, dummy_encoded_variables], axis=1)\n",
        "\n",
        "# display data with dummy variables\n",
        "df.head()"
      ],
      "metadata": {
        "colab": {
          "base_uri": "https://localhost:8080/",
          "height": 317
        },
        "id": "PLGMHAmPaCM_",
        "outputId": "f6faa28a-388d-4999-f4c3-f192ccec7b67"
      },
      "execution_count": 39,
      "outputs": [
        {
          "output_type": "execute_result",
          "data": {
            "text/plain": [
              "      peak-rpm  curb-weight  wheel-base  length  horsepower  city-mpg  \\\n",
              "0  5000.000000       2548.0   88.600000   168.8       111.0      21.0   \n",
              "1  5000.000000       2823.0   88.600000   168.8       111.0      21.0   \n",
              "2  5500.000000       2337.0   99.066667   171.2       154.0      19.0   \n",
              "3  5345.098039       2824.0   99.800000   176.6       102.0      24.0   \n",
              "4  5500.000000       2507.0   99.400000   176.6       115.0      18.0   \n",
              "\n",
              "     price  make_audi  make_bmw  make_chevrolet  ...  body-style_wagon  \\\n",
              "0  13495.0          0         0               0  ...                 0   \n",
              "1  16500.0          0         0               0  ...                 0   \n",
              "2  16500.0          0         0               0  ...                 0   \n",
              "3  13950.0          1         0               0  ...                 0   \n",
              "4  17450.0          1         0               0  ...                 0   \n",
              "\n",
              "   engine-type_dohcv  engine-type_ohc  engine-type_ohcv  engine-type_rotor  \\\n",
              "0                  0                0                 0                  0   \n",
              "1                  0                0                 0                  0   \n",
              "2                  0                0                 1                  0   \n",
              "3                  0                1                 0                  0   \n",
              "4                  0                1                 0                  0   \n",
              "\n",
              "   num-of-cylinders_five  num-of-cylinders_four  num-of-cylinders_six  \\\n",
              "0                      0                      1                     0   \n",
              "1                      0                      1                     0   \n",
              "2                      0                      0                     1   \n",
              "3                      0                      1                     0   \n",
              "4                      1                      0                     0   \n",
              "\n",
              "   num-of-cylinders_three  num-of-cylinders_two  \n",
              "0                       0                     0  \n",
              "1                       0                     0  \n",
              "2                       0                     0  \n",
              "3                       0                     0  \n",
              "4                       0                     0  \n",
              "\n",
              "[5 rows x 34 columns]"
            ],
            "text/html": [
              "\n",
              "  <div id=\"df-b4d90e49-edbe-4539-8452-2759d0e0a101\">\n",
              "    <div class=\"colab-df-container\">\n",
              "      <div>\n",
              "<style scoped>\n",
              "    .dataframe tbody tr th:only-of-type {\n",
              "        vertical-align: middle;\n",
              "    }\n",
              "\n",
              "    .dataframe tbody tr th {\n",
              "        vertical-align: top;\n",
              "    }\n",
              "\n",
              "    .dataframe thead th {\n",
              "        text-align: right;\n",
              "    }\n",
              "</style>\n",
              "<table border=\"1\" class=\"dataframe\">\n",
              "  <thead>\n",
              "    <tr style=\"text-align: right;\">\n",
              "      <th></th>\n",
              "      <th>peak-rpm</th>\n",
              "      <th>curb-weight</th>\n",
              "      <th>wheel-base</th>\n",
              "      <th>length</th>\n",
              "      <th>horsepower</th>\n",
              "      <th>city-mpg</th>\n",
              "      <th>price</th>\n",
              "      <th>make_audi</th>\n",
              "      <th>make_bmw</th>\n",
              "      <th>make_chevrolet</th>\n",
              "      <th>...</th>\n",
              "      <th>body-style_wagon</th>\n",
              "      <th>engine-type_dohcv</th>\n",
              "      <th>engine-type_ohc</th>\n",
              "      <th>engine-type_ohcv</th>\n",
              "      <th>engine-type_rotor</th>\n",
              "      <th>num-of-cylinders_five</th>\n",
              "      <th>num-of-cylinders_four</th>\n",
              "      <th>num-of-cylinders_six</th>\n",
              "      <th>num-of-cylinders_three</th>\n",
              "      <th>num-of-cylinders_two</th>\n",
              "    </tr>\n",
              "  </thead>\n",
              "  <tbody>\n",
              "    <tr>\n",
              "      <th>0</th>\n",
              "      <td>5000.000000</td>\n",
              "      <td>2548.0</td>\n",
              "      <td>88.600000</td>\n",
              "      <td>168.8</td>\n",
              "      <td>111.0</td>\n",
              "      <td>21.0</td>\n",
              "      <td>13495.0</td>\n",
              "      <td>0</td>\n",
              "      <td>0</td>\n",
              "      <td>0</td>\n",
              "      <td>...</td>\n",
              "      <td>0</td>\n",
              "      <td>0</td>\n",
              "      <td>0</td>\n",
              "      <td>0</td>\n",
              "      <td>0</td>\n",
              "      <td>0</td>\n",
              "      <td>1</td>\n",
              "      <td>0</td>\n",
              "      <td>0</td>\n",
              "      <td>0</td>\n",
              "    </tr>\n",
              "    <tr>\n",
              "      <th>1</th>\n",
              "      <td>5000.000000</td>\n",
              "      <td>2823.0</td>\n",
              "      <td>88.600000</td>\n",
              "      <td>168.8</td>\n",
              "      <td>111.0</td>\n",
              "      <td>21.0</td>\n",
              "      <td>16500.0</td>\n",
              "      <td>0</td>\n",
              "      <td>0</td>\n",
              "      <td>0</td>\n",
              "      <td>...</td>\n",
              "      <td>0</td>\n",
              "      <td>0</td>\n",
              "      <td>0</td>\n",
              "      <td>0</td>\n",
              "      <td>0</td>\n",
              "      <td>0</td>\n",
              "      <td>1</td>\n",
              "      <td>0</td>\n",
              "      <td>0</td>\n",
              "      <td>0</td>\n",
              "    </tr>\n",
              "    <tr>\n",
              "      <th>2</th>\n",
              "      <td>5500.000000</td>\n",
              "      <td>2337.0</td>\n",
              "      <td>99.066667</td>\n",
              "      <td>171.2</td>\n",
              "      <td>154.0</td>\n",
              "      <td>19.0</td>\n",
              "      <td>16500.0</td>\n",
              "      <td>0</td>\n",
              "      <td>0</td>\n",
              "      <td>0</td>\n",
              "      <td>...</td>\n",
              "      <td>0</td>\n",
              "      <td>0</td>\n",
              "      <td>0</td>\n",
              "      <td>1</td>\n",
              "      <td>0</td>\n",
              "      <td>0</td>\n",
              "      <td>0</td>\n",
              "      <td>1</td>\n",
              "      <td>0</td>\n",
              "      <td>0</td>\n",
              "    </tr>\n",
              "    <tr>\n",
              "      <th>3</th>\n",
              "      <td>5345.098039</td>\n",
              "      <td>2824.0</td>\n",
              "      <td>99.800000</td>\n",
              "      <td>176.6</td>\n",
              "      <td>102.0</td>\n",
              "      <td>24.0</td>\n",
              "      <td>13950.0</td>\n",
              "      <td>1</td>\n",
              "      <td>0</td>\n",
              "      <td>0</td>\n",
              "      <td>...</td>\n",
              "      <td>0</td>\n",
              "      <td>0</td>\n",
              "      <td>1</td>\n",
              "      <td>0</td>\n",
              "      <td>0</td>\n",
              "      <td>0</td>\n",
              "      <td>1</td>\n",
              "      <td>0</td>\n",
              "      <td>0</td>\n",
              "      <td>0</td>\n",
              "    </tr>\n",
              "    <tr>\n",
              "      <th>4</th>\n",
              "      <td>5500.000000</td>\n",
              "      <td>2507.0</td>\n",
              "      <td>99.400000</td>\n",
              "      <td>176.6</td>\n",
              "      <td>115.0</td>\n",
              "      <td>18.0</td>\n",
              "      <td>17450.0</td>\n",
              "      <td>1</td>\n",
              "      <td>0</td>\n",
              "      <td>0</td>\n",
              "      <td>...</td>\n",
              "      <td>0</td>\n",
              "      <td>0</td>\n",
              "      <td>1</td>\n",
              "      <td>0</td>\n",
              "      <td>0</td>\n",
              "      <td>1</td>\n",
              "      <td>0</td>\n",
              "      <td>0</td>\n",
              "      <td>0</td>\n",
              "      <td>0</td>\n",
              "    </tr>\n",
              "  </tbody>\n",
              "</table>\n",
              "<p>5 rows × 34 columns</p>\n",
              "</div>\n",
              "      <button class=\"colab-df-convert\" onclick=\"convertToInteractive('df-b4d90e49-edbe-4539-8452-2759d0e0a101')\"\n",
              "              title=\"Convert this dataframe to an interactive table.\"\n",
              "              style=\"display:none;\">\n",
              "        \n",
              "  <svg xmlns=\"http://www.w3.org/2000/svg\" height=\"24px\"viewBox=\"0 0 24 24\"\n",
              "       width=\"24px\">\n",
              "    <path d=\"M0 0h24v24H0V0z\" fill=\"none\"/>\n",
              "    <path d=\"M18.56 5.44l.94 2.06.94-2.06 2.06-.94-2.06-.94-.94-2.06-.94 2.06-2.06.94zm-11 1L8.5 8.5l.94-2.06 2.06-.94-2.06-.94L8.5 2.5l-.94 2.06-2.06.94zm10 10l.94 2.06.94-2.06 2.06-.94-2.06-.94-.94-2.06-.94 2.06-2.06.94z\"/><path d=\"M17.41 7.96l-1.37-1.37c-.4-.4-.92-.59-1.43-.59-.52 0-1.04.2-1.43.59L10.3 9.45l-7.72 7.72c-.78.78-.78 2.05 0 2.83L4 21.41c.39.39.9.59 1.41.59.51 0 1.02-.2 1.41-.59l7.78-7.78 2.81-2.81c.8-.78.8-2.07 0-2.86zM5.41 20L4 18.59l7.72-7.72 1.47 1.35L5.41 20z\"/>\n",
              "  </svg>\n",
              "      </button>\n",
              "      \n",
              "  <style>\n",
              "    .colab-df-container {\n",
              "      display:flex;\n",
              "      flex-wrap:wrap;\n",
              "      gap: 12px;\n",
              "    }\n",
              "\n",
              "    .colab-df-convert {\n",
              "      background-color: #E8F0FE;\n",
              "      border: none;\n",
              "      border-radius: 50%;\n",
              "      cursor: pointer;\n",
              "      display: none;\n",
              "      fill: #1967D2;\n",
              "      height: 32px;\n",
              "      padding: 0 0 0 0;\n",
              "      width: 32px;\n",
              "    }\n",
              "\n",
              "    .colab-df-convert:hover {\n",
              "      background-color: #E2EBFA;\n",
              "      box-shadow: 0px 1px 2px rgba(60, 64, 67, 0.3), 0px 1px 3px 1px rgba(60, 64, 67, 0.15);\n",
              "      fill: #174EA6;\n",
              "    }\n",
              "\n",
              "    [theme=dark] .colab-df-convert {\n",
              "      background-color: #3B4455;\n",
              "      fill: #D2E3FC;\n",
              "    }\n",
              "\n",
              "    [theme=dark] .colab-df-convert:hover {\n",
              "      background-color: #434B5C;\n",
              "      box-shadow: 0px 1px 3px 1px rgba(0, 0, 0, 0.15);\n",
              "      filter: drop-shadow(0px 1px 2px rgba(0, 0, 0, 0.3));\n",
              "      fill: #FFFFFF;\n",
              "    }\n",
              "  </style>\n",
              "\n",
              "      <script>\n",
              "        const buttonEl =\n",
              "          document.querySelector('#df-b4d90e49-edbe-4539-8452-2759d0e0a101 button.colab-df-convert');\n",
              "        buttonEl.style.display =\n",
              "          google.colab.kernel.accessAllowed ? 'block' : 'none';\n",
              "\n",
              "        async function convertToInteractive(key) {\n",
              "          const element = document.querySelector('#df-b4d90e49-edbe-4539-8452-2759d0e0a101');\n",
              "          const dataTable =\n",
              "            await google.colab.kernel.invokeFunction('convertToInteractive',\n",
              "                                                     [key], {});\n",
              "          if (!dataTable) return;\n",
              "\n",
              "          const docLinkHtml = 'Like what you see? Visit the ' +\n",
              "            '<a target=\"_blank\" href=https://colab.research.google.com/notebooks/data_table.ipynb>data table notebook</a>'\n",
              "            + ' to learn more about interactive tables.';\n",
              "          element.innerHTML = '';\n",
              "          dataTable['output_type'] = 'display_data';\n",
              "          await google.colab.output.renderOutput(dataTable, element);\n",
              "          const docLink = document.createElement('div');\n",
              "          docLink.innerHTML = docLinkHtml;\n",
              "          element.appendChild(docLink);\n",
              "        }\n",
              "      </script>\n",
              "    </div>\n",
              "  </div>\n",
              "  "
            ]
          },
          "metadata": {},
          "execution_count": 39
        }
      ]
    },
    {
      "cell_type": "markdown",
      "source": [
        "### *sklearn framework*"
      ],
      "metadata": {
        "id": "_U3UGFTIRhhI"
      }
    },
    {
      "cell_type": "code",
      "source": [
        "from sklearn.model_selection import train_test_split"
      ],
      "metadata": {
        "id": "9hEx-7XQaPWO"
      },
      "execution_count": 41,
      "outputs": []
    },
    {
      "cell_type": "code",
      "source": [
        "# Split the data into 80% training and  20% test\n",
        "X = df.drop(['price'],axis = 1)\n",
        "y = df['price']\n",
        "\n",
        "# split data into train data and test data\n",
        "# what proportion of data should be included in test data is passed using 'test_size'\n",
        "# set 'random_state' to get the same data each time the code is executed\n",
        "X_train, X_test, y_train, y_test = train_test_split(X, y, test_size=0.20, random_state=42)"
      ],
      "metadata": {
        "id": "ItlwnIQmaHm4"
      },
      "execution_count": 42,
      "outputs": []
    },
    {
      "cell_type": "code",
      "source": [
        "# print the shape of 'x_train'\n",
        "print(\"X_train \",X_train.shape)"
      ],
      "metadata": {
        "colab": {
          "base_uri": "https://localhost:8080/"
        },
        "id": "ZXTzlwcKamu7",
        "outputId": "8866e0f5-a740-404d-84a8-f7b5fa9e5a90"
      },
      "execution_count": 43,
      "outputs": [
        {
          "output_type": "stream",
          "name": "stdout",
          "text": [
            "X_train  (42, 33)\n"
          ]
        }
      ]
    },
    {
      "cell_type": "code",
      "source": [
        "# print the shape of 'x_test'\n",
        "print(\"X_test \",X_test.shape)"
      ],
      "metadata": {
        "colab": {
          "base_uri": "https://localhost:8080/"
        },
        "id": "vYkFYZhBarBh",
        "outputId": "af4becb8-0aa3-43df-b355-938a88343682"
      },
      "execution_count": 44,
      "outputs": [
        {
          "output_type": "stream",
          "name": "stdout",
          "text": [
            "X_test  (11, 33)\n"
          ]
        }
      ]
    },
    {
      "cell_type": "code",
      "source": [
        "# print the shape of 'y_train'\n",
        "print(\"y_train \",y_train.shape)\n",
        "\n",
        "# print the shape of 'y_test'\n",
        "print(\"y_test \",y_test.shape)"
      ],
      "metadata": {
        "colab": {
          "base_uri": "https://localhost:8080/"
        },
        "id": "yH9AQ5WIauoG",
        "outputId": "e76c63e9-7364-4919-ab54-25eaf7e8d7a5"
      },
      "execution_count": 45,
      "outputs": [
        {
          "output_type": "stream",
          "name": "stdout",
          "text": [
            "y_train  (42,)\n",
            "y_test  (11,)\n"
          ]
        }
      ]
    },
    {
      "cell_type": "code",
      "source": [
        "from sklearn.preprocessing import StandardScaler"
      ],
      "metadata": {
        "id": "UM-I10r8Ri9U"
      },
      "execution_count": 32,
      "outputs": []
    },
    {
      "cell_type": "code",
      "source": [
        "sc = StandardScaler()\n",
        "X_train = sc.fit_transform(X_train)\n",
        "X_test = sc.transform(X_test)"
      ],
      "metadata": {
        "id": "su8lyIRybvgD"
      },
      "execution_count": 46,
      "outputs": []
    },
    {
      "cell_type": "code",
      "source": [
        "from sklearn.linear_model import LinearRegression"
      ],
      "metadata": {
        "id": "TIJtkEV3cUBN"
      },
      "execution_count": 47,
      "outputs": []
    },
    {
      "cell_type": "code",
      "source": [
        "model = LinearRegression()"
      ],
      "metadata": {
        "id": "GnjX-pmgcbkS"
      },
      "execution_count": 48,
      "outputs": []
    },
    {
      "cell_type": "code",
      "source": [
        "model.fit(X_train, y_train)"
      ],
      "metadata": {
        "id": "ADzyRRHoc12v"
      },
      "execution_count": 60,
      "outputs": []
    },
    {
      "cell_type": "code",
      "source": [
        "model.coef_"
      ],
      "metadata": {
        "colab": {
          "base_uri": "https://localhost:8080/"
        },
        "id": "t4_nt42kdDzk",
        "outputId": "d42d22b2-f256-4724-9235-1b47d61f1ca0"
      },
      "execution_count": 61,
      "outputs": [
        {
          "output_type": "execute_result",
          "data": {
            "text/plain": [
              "array([  227.74830757, -1790.18653024,  3563.44199826,  7560.20707405,\n",
              "          76.86329002, -5455.01141676, -1798.61310435, -2084.74861147,\n",
              "         594.09098698, -1710.24501357, -1086.49342587,   886.16406066,\n",
              "       -3780.32467955, -1761.30037108,  2945.9718715 , -1685.26461503,\n",
              "       -2456.0775727 , -1034.51131721,  -525.76694414, -2191.78053272,\n",
              "       -3379.9182632 , -3814.70788008, -6528.45060621, -7233.31197742,\n",
              "       -1034.51131721,  2839.67158619,  -515.37267784,   250.41169804,\n",
              "         269.33097159,  -438.96429939,   457.66195899,   594.09098698,\n",
              "         250.41169804])"
            ]
          },
          "metadata": {},
          "execution_count": 61
        }
      ]
    },
    {
      "cell_type": "code",
      "source": [
        "y_pred = model.predict(X_test)"
      ],
      "metadata": {
        "id": "KQMaz93cdF8s"
      },
      "execution_count": 51,
      "outputs": []
    },
    {
      "cell_type": "code",
      "source": [
        "from sklearn import metrics"
      ],
      "metadata": {
        "id": "04ARUPZJdQfS"
      },
      "execution_count": 52,
      "outputs": []
    },
    {
      "cell_type": "code",
      "source": [
        "MAE= metrics.mean_absolute_error(y_test, y_pred)\n",
        "MSE=metrics.mean_squared_error(y_test, y_pred)\n",
        "RMSE= np.sqrt(MSE)\n",
        "r2 = metrics.r2_score(y_test,y_pred)\n",
        "n = X_train.shape[0]  # sample size\n",
        "p = X_test.shape[1]  # number of independent variables\n",
        "adj_r2 = 1 - (1 - r2) * (n - 1) / (n - p - 1)\n",
        "\n",
        "\n",
        "print(MAE, MSE, RMSE)"
      ],
      "metadata": {
        "id": "iuiUxdDBdN2Z"
      },
      "execution_count": 53,
      "outputs": []
    },
    {
      "cell_type": "code",
      "source": [
        "print('R-squared:', r2)\n",
        "print('Adjusted R-squared:', adj_r2)"
      ],
      "metadata": {
        "colab": {
          "base_uri": "https://localhost:8080/"
        },
        "id": "vIjDV8wFemLl",
        "outputId": "ba4faf12-ba7b-4c35-e0e3-0636d9791991"
      },
      "execution_count": 67,
      "outputs": [
        {
          "output_type": "stream",
          "name": "stdout",
          "text": [
            "R-squared: -2.3039544626910042\n",
            "Adjusted R-squared: -15.932766621291396\n"
          ]
        }
      ]
    },
    {
      "cell_type": "markdown",
      "source": [
        "### *statsmodels framework*"
      ],
      "metadata": {
        "id": "i4s3lOnPRoEm"
      }
    },
    {
      "cell_type": "code",
      "source": [
        "import statsmodels.api as sm\n",
        "from statsmodels.formula.api import ols\n",
        "from statsmodels.tools.eval_measures import rmse"
      ],
      "metadata": {
        "id": "eC8lHcvyRplR"
      },
      "execution_count": null,
      "outputs": []
    },
    {
      "cell_type": "code",
      "source": [
        "# build a full model using OLS()\n",
        "# consider the log of sales price as the target variable\n",
        "# use fit() to fit the model on train data\n",
        "linreg_logmodel_full = sm.OLS(y_train, X_train).fit()"
      ],
      "metadata": {
        "id": "ryPkA6CBR1dj"
      },
      "execution_count": null,
      "outputs": []
    },
    {
      "cell_type": "code",
      "source": [
        "# print the summary output\n",
        "print(linreg_logmodel_full.summary())"
      ],
      "metadata": {
        "id": "W9zWoSLuR4r_"
      },
      "execution_count": null,
      "outputs": []
    },
    {
      "cell_type": "code",
      "source": [
        "linreg_logmodel_full_predictions = linreg_logmodel_full.predict(X_test)"
      ],
      "metadata": {
        "id": "cPWrUqo8S6Tx"
      },
      "execution_count": null,
      "outputs": []
    },
    {
      "cell_type": "code",
      "source": [
        "# take the exponential of predictions using np.exp()\n",
        "predicted_Price = np.exp(linreg_logmodel_full_predictions)\n",
        "\n",
        "# extract the 'Property_Sale_Price' values from the test data\n",
        "actual_Price = y_test"
      ],
      "metadata": {
        "id": "Ab3ikQVcTGct"
      },
      "execution_count": null,
      "outputs": []
    },
    {
      "cell_type": "code",
      "source": [
        "# calculate rmse using rmse()\n",
        "linreg_logmodel_full_rmse = rmse(actual_Price, predicted_Price)\n",
        "\n",
        "# calculate R-squared using rsquared\n",
        "linreg_logmodel_full_rsquared = linreg_logmodel_full.rsquared\n",
        "\n",
        "# calculate Adjusted R-Squared using rsquared_adj\n",
        "linreg_logmodel_full_rsquared_adj = linreg_logmodel_full.rsquared_adj"
      ],
      "metadata": {
        "id": "H666RaemTKu1"
      },
      "execution_count": null,
      "outputs": []
    }
  ]
}